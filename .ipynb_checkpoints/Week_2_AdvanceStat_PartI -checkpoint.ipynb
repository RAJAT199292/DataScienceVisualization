{
 "cells": [
  {
   "cell_type": "markdown",
   "metadata": {
    "colab_type": "text",
    "id": "tZMk-RZt-QrI"
   },
   "source": [
    "#Proprietary content. © Great Learning and IIT Madras. All Rights Reserved. Unauthorized use or distribution prohibited."
   ]
  },
  {
   "cell_type": "markdown",
   "metadata": {},
   "source": [
    "# Problem Statement"
   ]
  },
  {
   "cell_type": "markdown",
   "metadata": {
    "colab_type": "text",
    "id": "I5_NmI6j-QrL"
   },
   "source": [
    "The objective of the case study is to predict whether the referral would join the organisaiton or not.\n",
    "\n",
    "You have been hired by the XYZ organisation and you need to estimate the chances of a referrals joining the organisation based on various parameters including the salary offered, their academic and interview performance. This study will help the organisaiton to identify the factors/parameters/features which play an important role to increase the chances of a referral joining the organisaiton.\n",
    "  \n",
    "We have a data of 499 referral with  19 features (including both independent and dependent variables)"
   ]
  },
  {
   "cell_type": "markdown",
   "metadata": {
    "colab_type": "text",
    "id": "kmKeQYYcGTVp"
   },
   "source": [
    "### Load Required Libraries"
   ]
  },
  {
   "cell_type": "code",
   "execution_count": 135,
   "metadata": {
    "ExecuteTime": {
     "end_time": "2020-03-31T08:42:21.252144Z",
     "start_time": "2020-03-31T08:42:21.244926Z"
    },
    "colab": {},
    "colab_type": "code",
    "id": "n6LeoEar-QrM"
   },
   "outputs": [],
   "source": [
    "import numpy as np   \n",
    "import pandas as pd    \n",
    "import matplotlib.pyplot as plt   \n",
    "import seaborn as sns"
   ]
  },
  {
   "cell_type": "code",
   "execution_count": 136,
   "metadata": {},
   "outputs": [
    {
     "name": "stdout",
     "output_type": "stream",
     "text": [
      "1.19.2\n",
      "1.1.3\n",
      "0.11.0\n"
     ]
    }
   ],
   "source": [
    "print(np.__version__)\n",
    "print(pd.__version__)\n",
    "print(sns.__version__)"
   ]
  },
  {
   "cell_type": "markdown",
   "metadata": {
    "colab_type": "text",
    "id": "Vbx3QZvT-QrQ"
   },
   "source": [
    "### Importing data"
   ]
  },
  {
   "cell_type": "code",
   "execution_count": 137,
   "metadata": {
    "ExecuteTime": {
     "end_time": "2020-03-31T08:42:23.638099Z",
     "start_time": "2020-03-31T08:42:22.582802Z"
    },
    "colab": {},
    "colab_type": "code",
    "id": "L6Yxhq6b-QrR"
   },
   "outputs": [],
   "source": [
    "# reading the CSV file into pandas dataframe\n",
    "df = pd.read_csv('Referral_Join_Prediction.csv')"
   ]
  },
  {
   "cell_type": "markdown",
   "metadata": {},
   "source": [
    "### View and describe the data"
   ]
  },
  {
   "cell_type": "markdown",
   "metadata": {},
   "source": [
    " View the top 5 records"
   ]
  },
  {
   "cell_type": "code",
   "execution_count": 138,
   "metadata": {
    "ExecuteTime": {
     "end_time": "2020-03-31T08:42:26.457000Z",
     "start_time": "2020-03-31T08:42:26.437315Z"
    },
    "colab": {
     "base_uri": "https://localhost:8080/",
     "height": 200
    },
    "colab_type": "code",
    "id": "K1p4lqVm-QrW",
    "outputId": "6bc753bb-cb79-451b-f333-6883418111ef"
   },
   "outputs": [
    {
     "data": {
      "text/html": [
       "<div>\n",
       "<style scoped>\n",
       "    .dataframe tbody tr th:only-of-type {\n",
       "        vertical-align: middle;\n",
       "    }\n",
       "\n",
       "    .dataframe tbody tr th {\n",
       "        vertical-align: top;\n",
       "    }\n",
       "\n",
       "    .dataframe thead th {\n",
       "        text-align: right;\n",
       "    }\n",
       "</style>\n",
       "<table border=\"1\" class=\"dataframe\">\n",
       "  <thead>\n",
       "    <tr style=\"text-align: right;\">\n",
       "      <th></th>\n",
       "      <th>referral_id</th>\n",
       "      <th>referral_age</th>\n",
       "      <th>referral_exp_in_years</th>\n",
       "      <th>referral_preferred_city</th>\n",
       "      <th>referral_current_salary</th>\n",
       "      <th>referral_10_th_marks</th>\n",
       "      <th>referral_12th_marks</th>\n",
       "      <th>referral_graduation_marks</th>\n",
       "      <th>referral_post_grad_marks</th>\n",
       "      <th>referral_gender</th>\n",
       "      <th>referral_expected_sal</th>\n",
       "      <th>referral_aptitude_numerical_score</th>\n",
       "      <th>referral_aptitude_verbal_score</th>\n",
       "      <th>referral_aptitude_reasoning_score</th>\n",
       "      <th>referral_Management_Interview_score</th>\n",
       "      <th>referral_HR_Interview_score</th>\n",
       "      <th>Salary offered</th>\n",
       "      <th>Emp_Salary_Grade</th>\n",
       "      <th>Joined</th>\n",
       "    </tr>\n",
       "  </thead>\n",
       "  <tbody>\n",
       "    <tr>\n",
       "      <th>0</th>\n",
       "      <td>1</td>\n",
       "      <td>28</td>\n",
       "      <td>5.0</td>\n",
       "      <td>Delhi</td>\n",
       "      <td>106</td>\n",
       "      <td>89.0</td>\n",
       "      <td>72</td>\n",
       "      <td>87.0</td>\n",
       "      <td>83.0</td>\n",
       "      <td>Male</td>\n",
       "      <td>123.0</td>\n",
       "      <td>10.00</td>\n",
       "      <td>33.04</td>\n",
       "      <td>?</td>\n",
       "      <td>10.0</td>\n",
       "      <td>3</td>\n",
       "      <td>141</td>\n",
       "      <td>EL0</td>\n",
       "      <td>Yes</td>\n",
       "    </tr>\n",
       "    <tr>\n",
       "      <th>1</th>\n",
       "      <td>2</td>\n",
       "      <td>26</td>\n",
       "      <td>3.0</td>\n",
       "      <td>Pune</td>\n",
       "      <td>65</td>\n",
       "      <td>63.0</td>\n",
       "      <td>77</td>\n",
       "      <td>94.0</td>\n",
       "      <td>85.0</td>\n",
       "      <td>Male</td>\n",
       "      <td>83.0</td>\n",
       "      <td>6.09</td>\n",
       "      <td>27.39</td>\n",
       "      <td>20.87</td>\n",
       "      <td>10.0</td>\n",
       "      <td>10</td>\n",
       "      <td>80</td>\n",
       "      <td>ML0</td>\n",
       "      <td>Yes</td>\n",
       "    </tr>\n",
       "    <tr>\n",
       "      <th>2</th>\n",
       "      <td>3</td>\n",
       "      <td>23</td>\n",
       "      <td>2.0</td>\n",
       "      <td>Mumbai</td>\n",
       "      <td>45</td>\n",
       "      <td>92.0</td>\n",
       "      <td>85</td>\n",
       "      <td>84.0</td>\n",
       "      <td>72.0</td>\n",
       "      <td>Male</td>\n",
       "      <td>62.0</td>\n",
       "      <td>41.74</td>\n",
       "      <td>2.61</td>\n",
       "      <td>40.00</td>\n",
       "      <td>2.0</td>\n",
       "      <td>1</td>\n",
       "      <td>60</td>\n",
       "      <td>EL0</td>\n",
       "      <td>No</td>\n",
       "    </tr>\n",
       "    <tr>\n",
       "      <th>3</th>\n",
       "      <td>4</td>\n",
       "      <td>29</td>\n",
       "      <td>6.0</td>\n",
       "      <td>Bangalore</td>\n",
       "      <td>126</td>\n",
       "      <td>60.0</td>\n",
       "      <td>95</td>\n",
       "      <td>95.0</td>\n",
       "      <td>67.0</td>\n",
       "      <td>Male</td>\n",
       "      <td>146.0</td>\n",
       "      <td>31.30</td>\n",
       "      <td>9.13</td>\n",
       "      <td>23.48</td>\n",
       "      <td>9.0</td>\n",
       "      <td>3</td>\n",
       "      <td>142</td>\n",
       "      <td>ML0</td>\n",
       "      <td>Yes</td>\n",
       "    </tr>\n",
       "    <tr>\n",
       "      <th>4</th>\n",
       "      <td>5</td>\n",
       "      <td>26</td>\n",
       "      <td>3.0</td>\n",
       "      <td>Mumbai</td>\n",
       "      <td>65</td>\n",
       "      <td>92.0</td>\n",
       "      <td>70</td>\n",
       "      <td>80.0</td>\n",
       "      <td>92.0</td>\n",
       "      <td>Female</td>\n",
       "      <td>83.0</td>\n",
       "      <td>25.65</td>\n",
       "      <td>30.43</td>\n",
       "      <td>16.52</td>\n",
       "      <td>7.0</td>\n",
       "      <td>4</td>\n",
       "      <td>89</td>\n",
       "      <td>EL0</td>\n",
       "      <td>Yes</td>\n",
       "    </tr>\n",
       "  </tbody>\n",
       "</table>\n",
       "</div>"
      ],
      "text/plain": [
       "   referral_id  referral_age  referral_exp_in_years referral_preferred_city  \\\n",
       "0            1            28                    5.0                   Delhi   \n",
       "1            2            26                    3.0                    Pune   \n",
       "2            3            23                    2.0                  Mumbai   \n",
       "3            4            29                    6.0               Bangalore   \n",
       "4            5            26                    3.0                  Mumbai   \n",
       "\n",
       "   referral_current_salary  referral_10_th_marks  referral_12th_marks  \\\n",
       "0                      106                  89.0                   72   \n",
       "1                       65                  63.0                   77   \n",
       "2                       45                  92.0                   85   \n",
       "3                      126                  60.0                   95   \n",
       "4                       65                  92.0                   70   \n",
       "\n",
       "   referral_graduation_marks  referral_post_grad_marks referral_gender  \\\n",
       "0                       87.0                      83.0            Male   \n",
       "1                       94.0                      85.0            Male   \n",
       "2                       84.0                      72.0            Male   \n",
       "3                       95.0                      67.0            Male   \n",
       "4                       80.0                      92.0          Female   \n",
       "\n",
       "   referral_expected_sal referral_aptitude_numerical_score  \\\n",
       "0                  123.0                             10.00   \n",
       "1                   83.0                              6.09   \n",
       "2                   62.0                             41.74   \n",
       "3                  146.0                             31.30   \n",
       "4                   83.0                             25.65   \n",
       "\n",
       "   referral_aptitude_verbal_score referral_aptitude_reasoning_score  \\\n",
       "0                           33.04                                 ?   \n",
       "1                           27.39                             20.87   \n",
       "2                            2.61                             40.00   \n",
       "3                            9.13                             23.48   \n",
       "4                           30.43                             16.52   \n",
       "\n",
       "   referral_Management_Interview_score  referral_HR_Interview_score  \\\n",
       "0                                 10.0                            3   \n",
       "1                                 10.0                           10   \n",
       "2                                  2.0                            1   \n",
       "3                                  9.0                            3   \n",
       "4                                  7.0                            4   \n",
       "\n",
       "   Salary offered Emp_Salary_Grade Joined  \n",
       "0             141              EL0    Yes  \n",
       "1              80              ML0    Yes  \n",
       "2              60              EL0     No  \n",
       "3             142              ML0    Yes  \n",
       "4              89              EL0    Yes  "
      ]
     },
     "execution_count": 138,
     "metadata": {},
     "output_type": "execute_result"
    }
   ],
   "source": [
    "df.head()"
   ]
  },
  {
   "cell_type": "markdown",
   "metadata": {},
   "source": [
    "View the bottom 5 records"
   ]
  },
  {
   "cell_type": "code",
   "execution_count": 139,
   "metadata": {},
   "outputs": [
    {
     "data": {
      "text/html": [
       "<div>\n",
       "<style scoped>\n",
       "    .dataframe tbody tr th:only-of-type {\n",
       "        vertical-align: middle;\n",
       "    }\n",
       "\n",
       "    .dataframe tbody tr th {\n",
       "        vertical-align: top;\n",
       "    }\n",
       "\n",
       "    .dataframe thead th {\n",
       "        text-align: right;\n",
       "    }\n",
       "</style>\n",
       "<table border=\"1\" class=\"dataframe\">\n",
       "  <thead>\n",
       "    <tr style=\"text-align: right;\">\n",
       "      <th></th>\n",
       "      <th>referral_id</th>\n",
       "      <th>referral_age</th>\n",
       "      <th>referral_exp_in_years</th>\n",
       "      <th>referral_preferred_city</th>\n",
       "      <th>referral_current_salary</th>\n",
       "      <th>referral_10_th_marks</th>\n",
       "      <th>referral_12th_marks</th>\n",
       "      <th>referral_graduation_marks</th>\n",
       "      <th>referral_post_grad_marks</th>\n",
       "      <th>referral_gender</th>\n",
       "      <th>referral_expected_sal</th>\n",
       "      <th>referral_aptitude_numerical_score</th>\n",
       "      <th>referral_aptitude_verbal_score</th>\n",
       "      <th>referral_aptitude_reasoning_score</th>\n",
       "      <th>referral_Management_Interview_score</th>\n",
       "      <th>referral_HR_Interview_score</th>\n",
       "      <th>Salary offered</th>\n",
       "      <th>Emp_Salary_Grade</th>\n",
       "      <th>Joined</th>\n",
       "    </tr>\n",
       "  </thead>\n",
       "  <tbody>\n",
       "    <tr>\n",
       "      <th>494</th>\n",
       "      <td>495</td>\n",
       "      <td>21</td>\n",
       "      <td>1.0</td>\n",
       "      <td>Pune</td>\n",
       "      <td>25</td>\n",
       "      <td>81.0</td>\n",
       "      <td>77</td>\n",
       "      <td>77.0</td>\n",
       "      <td>91.0</td>\n",
       "      <td>Male</td>\n",
       "      <td>42.0</td>\n",
       "      <td>19.13</td>\n",
       "      <td>16.09</td>\n",
       "      <td>6.52</td>\n",
       "      <td>9.0</td>\n",
       "      <td>8</td>\n",
       "      <td>40</td>\n",
       "      <td>EL0</td>\n",
       "      <td>Yes</td>\n",
       "    </tr>\n",
       "    <tr>\n",
       "      <th>495</th>\n",
       "      <td>496</td>\n",
       "      <td>21</td>\n",
       "      <td>1.0</td>\n",
       "      <td>Mumbai</td>\n",
       "      <td>25</td>\n",
       "      <td>74.0</td>\n",
       "      <td>95</td>\n",
       "      <td>67.0</td>\n",
       "      <td>81.0</td>\n",
       "      <td>Female</td>\n",
       "      <td>100.0</td>\n",
       "      <td>3.48</td>\n",
       "      <td>13.04</td>\n",
       "      <td>29.13</td>\n",
       "      <td>9.0</td>\n",
       "      <td>3</td>\n",
       "      <td>40</td>\n",
       "      <td>EL0</td>\n",
       "      <td>Yes</td>\n",
       "    </tr>\n",
       "    <tr>\n",
       "      <th>496</th>\n",
       "      <td>497</td>\n",
       "      <td>29</td>\n",
       "      <td>7.0</td>\n",
       "      <td>Mumbai</td>\n",
       "      <td>146</td>\n",
       "      <td>94.0</td>\n",
       "      <td>92</td>\n",
       "      <td>89.0</td>\n",
       "      <td>71.0</td>\n",
       "      <td>Male</td>\n",
       "      <td>200.0</td>\n",
       "      <td>38.70</td>\n",
       "      <td>5.22</td>\n",
       "      <td>39.57</td>\n",
       "      <td>9.0</td>\n",
       "      <td>5</td>\n",
       "      <td>161</td>\n",
       "      <td>EL0</td>\n",
       "      <td>Yes</td>\n",
       "    </tr>\n",
       "    <tr>\n",
       "      <th>497</th>\n",
       "      <td>498</td>\n",
       "      <td>30</td>\n",
       "      <td>7.0</td>\n",
       "      <td>Mumbai</td>\n",
       "      <td>143</td>\n",
       "      <td>64.0</td>\n",
       "      <td>89</td>\n",
       "      <td>61.0</td>\n",
       "      <td>88.0</td>\n",
       "      <td>Female</td>\n",
       "      <td>160.0</td>\n",
       "      <td>38.70</td>\n",
       "      <td>37.83</td>\n",
       "      <td>6.52</td>\n",
       "      <td>7.0</td>\n",
       "      <td>5</td>\n",
       "      <td>158</td>\n",
       "      <td>EL0</td>\n",
       "      <td>Yes</td>\n",
       "    </tr>\n",
       "    <tr>\n",
       "      <th>498</th>\n",
       "      <td>499</td>\n",
       "      <td>30</td>\n",
       "      <td>8.0</td>\n",
       "      <td>Bangalore</td>\n",
       "      <td>144</td>\n",
       "      <td>67.0</td>\n",
       "      <td>72</td>\n",
       "      <td>81.0</td>\n",
       "      <td>60.0</td>\n",
       "      <td>Female</td>\n",
       "      <td>200.0</td>\n",
       "      <td>33.48</td>\n",
       "      <td>20.43</td>\n",
       "      <td>1.74</td>\n",
       "      <td>4.0</td>\n",
       "      <td>6</td>\n",
       "      <td>159</td>\n",
       "      <td>EE0</td>\n",
       "      <td>No</td>\n",
       "    </tr>\n",
       "  </tbody>\n",
       "</table>\n",
       "</div>"
      ],
      "text/plain": [
       "     referral_id  referral_age  referral_exp_in_years referral_preferred_city  \\\n",
       "494          495            21                    1.0                    Pune   \n",
       "495          496            21                    1.0                  Mumbai   \n",
       "496          497            29                    7.0                  Mumbai   \n",
       "497          498            30                    7.0                  Mumbai   \n",
       "498          499            30                    8.0               Bangalore   \n",
       "\n",
       "     referral_current_salary  referral_10_th_marks  referral_12th_marks  \\\n",
       "494                       25                  81.0                   77   \n",
       "495                       25                  74.0                   95   \n",
       "496                      146                  94.0                   92   \n",
       "497                      143                  64.0                   89   \n",
       "498                      144                  67.0                   72   \n",
       "\n",
       "     referral_graduation_marks  referral_post_grad_marks referral_gender  \\\n",
       "494                       77.0                      91.0            Male   \n",
       "495                       67.0                      81.0          Female   \n",
       "496                       89.0                      71.0            Male   \n",
       "497                       61.0                      88.0          Female   \n",
       "498                       81.0                      60.0          Female   \n",
       "\n",
       "     referral_expected_sal referral_aptitude_numerical_score  \\\n",
       "494                   42.0                             19.13   \n",
       "495                  100.0                              3.48   \n",
       "496                  200.0                             38.70   \n",
       "497                  160.0                             38.70   \n",
       "498                  200.0                             33.48   \n",
       "\n",
       "     referral_aptitude_verbal_score referral_aptitude_reasoning_score  \\\n",
       "494                           16.09                              6.52   \n",
       "495                           13.04                             29.13   \n",
       "496                            5.22                             39.57   \n",
       "497                           37.83                              6.52   \n",
       "498                           20.43                              1.74   \n",
       "\n",
       "     referral_Management_Interview_score  referral_HR_Interview_score  \\\n",
       "494                                  9.0                            8   \n",
       "495                                  9.0                            3   \n",
       "496                                  9.0                            5   \n",
       "497                                  7.0                            5   \n",
       "498                                  4.0                            6   \n",
       "\n",
       "     Salary offered Emp_Salary_Grade Joined  \n",
       "494              40              EL0    Yes  \n",
       "495              40              EL0    Yes  \n",
       "496             161              EL0    Yes  \n",
       "497             158              EL0    Yes  \n",
       "498             159              EE0     No  "
      ]
     },
     "execution_count": 139,
     "metadata": {},
     "output_type": "execute_result"
    }
   ],
   "source": [
    "df.tail()"
   ]
  },
  {
   "cell_type": "markdown",
   "metadata": {},
   "source": [
    "Shape"
   ]
  },
  {
   "cell_type": "code",
   "execution_count": 140,
   "metadata": {
    "ExecuteTime": {
     "end_time": "2020-03-31T08:42:29.046975Z",
     "start_time": "2020-03-31T08:42:29.041989Z"
    }
   },
   "outputs": [
    {
     "name": "stdout",
     "output_type": "stream",
     "text": [
      "no. of rows:  499 \n",
      "no. of columns:  19\n"
     ]
    }
   ],
   "source": [
    "print(\"no. of rows: \",df.shape[0], \"\\n\"\"no. of columns: \",df.shape[1])"
   ]
  },
  {
   "cell_type": "markdown",
   "metadata": {},
   "source": [
    "Retreive the list of fields along with their data type"
   ]
  },
  {
   "cell_type": "code",
   "execution_count": 141,
   "metadata": {
    "ExecuteTime": {
     "end_time": "2020-03-31T08:42:43.968809Z",
     "start_time": "2020-03-31T08:42:43.956942Z"
    },
    "colab": {
     "base_uri": "https://localhost:8080/",
     "height": 301
    },
    "colab_type": "code",
    "id": "4x7gT9wu-Qrg",
    "outputId": "7d23449b-de7a-4831-8ef8-a7091c2655db"
   },
   "outputs": [
    {
     "name": "stdout",
     "output_type": "stream",
     "text": [
      "<class 'pandas.core.frame.DataFrame'>\n",
      "RangeIndex: 499 entries, 0 to 498\n",
      "Data columns (total 19 columns):\n",
      " #   Column                               Non-Null Count  Dtype  \n",
      "---  ------                               --------------  -----  \n",
      " 0   referral_id                          499 non-null    int64  \n",
      " 1   referral_age                         499 non-null    int64  \n",
      " 2   referral_exp_in_years                499 non-null    float64\n",
      " 3   referral_preferred_city              499 non-null    object \n",
      " 4   referral_current_salary              499 non-null    int64  \n",
      " 5   referral_10_th_marks                 498 non-null    float64\n",
      " 6   referral_12th_marks                  499 non-null    int64  \n",
      " 7   referral_graduation_marks            498 non-null    float64\n",
      " 8   referral_post_grad_marks             498 non-null    float64\n",
      " 9   referral_gender                      499 non-null    object \n",
      " 10  referral_expected_sal                497 non-null    float64\n",
      " 11  referral_aptitude_numerical_score    496 non-null    object \n",
      " 12  referral_aptitude_verbal_score       489 non-null    float64\n",
      " 13  referral_aptitude_reasoning_score    495 non-null    object \n",
      " 14  referral_Management_Interview_score  498 non-null    float64\n",
      " 15  referral_HR_Interview_score          499 non-null    int64  \n",
      " 16  Salary offered                       499 non-null    int64  \n",
      " 17  Emp_Salary_Grade                     499 non-null    object \n",
      " 18  Joined                               499 non-null    object \n",
      "dtypes: float64(7), int64(6), object(6)\n",
      "memory usage: 74.2+ KB\n"
     ]
    }
   ],
   "source": [
    "df.info()"
   ]
  },
  {
   "cell_type": "code",
   "execution_count": 142,
   "metadata": {},
   "outputs": [
    {
     "data": {
      "text/html": [
       "<div>\n",
       "<style scoped>\n",
       "    .dataframe tbody tr th:only-of-type {\n",
       "        vertical-align: middle;\n",
       "    }\n",
       "\n",
       "    .dataframe tbody tr th {\n",
       "        vertical-align: top;\n",
       "    }\n",
       "\n",
       "    .dataframe thead th {\n",
       "        text-align: right;\n",
       "    }\n",
       "</style>\n",
       "<table border=\"1\" class=\"dataframe\">\n",
       "  <thead>\n",
       "    <tr style=\"text-align: right;\">\n",
       "      <th></th>\n",
       "      <th>count</th>\n",
       "      <th>mean</th>\n",
       "      <th>std</th>\n",
       "      <th>min</th>\n",
       "      <th>25%</th>\n",
       "      <th>50%</th>\n",
       "      <th>75%</th>\n",
       "      <th>max</th>\n",
       "    </tr>\n",
       "  </thead>\n",
       "  <tbody>\n",
       "    <tr>\n",
       "      <th>referral_id</th>\n",
       "      <td>499.0</td>\n",
       "      <td>250.000000</td>\n",
       "      <td>144.193157</td>\n",
       "      <td>1.00</td>\n",
       "      <td>125.50</td>\n",
       "      <td>250.00</td>\n",
       "      <td>374.50</td>\n",
       "      <td>499.00</td>\n",
       "    </tr>\n",
       "    <tr>\n",
       "      <th>referral_age</th>\n",
       "      <td>499.0</td>\n",
       "      <td>27.020040</td>\n",
       "      <td>2.811979</td>\n",
       "      <td>20.00</td>\n",
       "      <td>25.00</td>\n",
       "      <td>27.00</td>\n",
       "      <td>29.00</td>\n",
       "      <td>65.00</td>\n",
       "    </tr>\n",
       "    <tr>\n",
       "      <th>referral_exp_in_years</th>\n",
       "      <td>499.0</td>\n",
       "      <td>4.053307</td>\n",
       "      <td>2.609814</td>\n",
       "      <td>1.00</td>\n",
       "      <td>2.00</td>\n",
       "      <td>4.00</td>\n",
       "      <td>6.00</td>\n",
       "      <td>42.00</td>\n",
       "    </tr>\n",
       "    <tr>\n",
       "      <th>referral_current_salary</th>\n",
       "      <td>499.0</td>\n",
       "      <td>86.472946</td>\n",
       "      <td>52.566584</td>\n",
       "      <td>25.00</td>\n",
       "      <td>45.00</td>\n",
       "      <td>85.00</td>\n",
       "      <td>126.00</td>\n",
       "      <td>853.00</td>\n",
       "    </tr>\n",
       "    <tr>\n",
       "      <th>referral_10_th_marks</th>\n",
       "      <td>498.0</td>\n",
       "      <td>77.295181</td>\n",
       "      <td>11.128083</td>\n",
       "      <td>-1.00</td>\n",
       "      <td>68.00</td>\n",
       "      <td>78.00</td>\n",
       "      <td>87.00</td>\n",
       "      <td>103.00</td>\n",
       "    </tr>\n",
       "    <tr>\n",
       "      <th>referral_12th_marks</th>\n",
       "      <td>499.0</td>\n",
       "      <td>77.478958</td>\n",
       "      <td>10.932113</td>\n",
       "      <td>12.00</td>\n",
       "      <td>69.00</td>\n",
       "      <td>77.00</td>\n",
       "      <td>87.00</td>\n",
       "      <td>95.00</td>\n",
       "    </tr>\n",
       "    <tr>\n",
       "      <th>referral_graduation_marks</th>\n",
       "      <td>498.0</td>\n",
       "      <td>77.096386</td>\n",
       "      <td>10.812223</td>\n",
       "      <td>-1.00</td>\n",
       "      <td>68.00</td>\n",
       "      <td>77.00</td>\n",
       "      <td>86.00</td>\n",
       "      <td>104.00</td>\n",
       "    </tr>\n",
       "    <tr>\n",
       "      <th>referral_post_grad_marks</th>\n",
       "      <td>498.0</td>\n",
       "      <td>78.269076</td>\n",
       "      <td>10.478487</td>\n",
       "      <td>60.00</td>\n",
       "      <td>69.00</td>\n",
       "      <td>78.00</td>\n",
       "      <td>88.75</td>\n",
       "      <td>101.00</td>\n",
       "    </tr>\n",
       "    <tr>\n",
       "      <th>referral_expected_sal</th>\n",
       "      <td>497.0</td>\n",
       "      <td>108.692153</td>\n",
       "      <td>58.722281</td>\n",
       "      <td>40.00</td>\n",
       "      <td>62.00</td>\n",
       "      <td>103.00</td>\n",
       "      <td>143.00</td>\n",
       "      <td>870.00</td>\n",
       "    </tr>\n",
       "    <tr>\n",
       "      <th>referral_aptitude_verbal_score</th>\n",
       "      <td>489.0</td>\n",
       "      <td>21.840491</td>\n",
       "      <td>12.338425</td>\n",
       "      <td>0.43</td>\n",
       "      <td>11.74</td>\n",
       "      <td>20.87</td>\n",
       "      <td>32.61</td>\n",
       "      <td>43.48</td>\n",
       "    </tr>\n",
       "    <tr>\n",
       "      <th>referral_Management_Interview_score</th>\n",
       "      <td>498.0</td>\n",
       "      <td>5.732932</td>\n",
       "      <td>2.922706</td>\n",
       "      <td>1.00</td>\n",
       "      <td>3.00</td>\n",
       "      <td>6.00</td>\n",
       "      <td>8.00</td>\n",
       "      <td>10.00</td>\n",
       "    </tr>\n",
       "    <tr>\n",
       "      <th>referral_HR_Interview_score</th>\n",
       "      <td>499.0</td>\n",
       "      <td>5.651303</td>\n",
       "      <td>5.500516</td>\n",
       "      <td>1.00</td>\n",
       "      <td>3.00</td>\n",
       "      <td>5.00</td>\n",
       "      <td>8.00</td>\n",
       "      <td>111.00</td>\n",
       "    </tr>\n",
       "    <tr>\n",
       "      <th>Salary offered</th>\n",
       "      <td>499.0</td>\n",
       "      <td>102.006012</td>\n",
       "      <td>52.619704</td>\n",
       "      <td>40.00</td>\n",
       "      <td>60.00</td>\n",
       "      <td>101.00</td>\n",
       "      <td>141.00</td>\n",
       "      <td>868.00</td>\n",
       "    </tr>\n",
       "  </tbody>\n",
       "</table>\n",
       "</div>"
      ],
      "text/plain": [
       "                                     count        mean         std    min  \\\n",
       "referral_id                          499.0  250.000000  144.193157   1.00   \n",
       "referral_age                         499.0   27.020040    2.811979  20.00   \n",
       "referral_exp_in_years                499.0    4.053307    2.609814   1.00   \n",
       "referral_current_salary              499.0   86.472946   52.566584  25.00   \n",
       "referral_10_th_marks                 498.0   77.295181   11.128083  -1.00   \n",
       "referral_12th_marks                  499.0   77.478958   10.932113  12.00   \n",
       "referral_graduation_marks            498.0   77.096386   10.812223  -1.00   \n",
       "referral_post_grad_marks             498.0   78.269076   10.478487  60.00   \n",
       "referral_expected_sal                497.0  108.692153   58.722281  40.00   \n",
       "referral_aptitude_verbal_score       489.0   21.840491   12.338425   0.43   \n",
       "referral_Management_Interview_score  498.0    5.732932    2.922706   1.00   \n",
       "referral_HR_Interview_score          499.0    5.651303    5.500516   1.00   \n",
       "Salary offered                       499.0  102.006012   52.619704  40.00   \n",
       "\n",
       "                                        25%     50%     75%     max  \n",
       "referral_id                          125.50  250.00  374.50  499.00  \n",
       "referral_age                          25.00   27.00   29.00   65.00  \n",
       "referral_exp_in_years                  2.00    4.00    6.00   42.00  \n",
       "referral_current_salary               45.00   85.00  126.00  853.00  \n",
       "referral_10_th_marks                  68.00   78.00   87.00  103.00  \n",
       "referral_12th_marks                   69.00   77.00   87.00   95.00  \n",
       "referral_graduation_marks             68.00   77.00   86.00  104.00  \n",
       "referral_post_grad_marks              69.00   78.00   88.75  101.00  \n",
       "referral_expected_sal                 62.00  103.00  143.00  870.00  \n",
       "referral_aptitude_verbal_score        11.74   20.87   32.61   43.48  \n",
       "referral_Management_Interview_score    3.00    6.00    8.00   10.00  \n",
       "referral_HR_Interview_score            3.00    5.00    8.00  111.00  \n",
       "Salary offered                        60.00  101.00  141.00  868.00  "
      ]
     },
     "execution_count": 142,
     "metadata": {},
     "output_type": "execute_result"
    }
   ],
   "source": [
    "df.describe().T"
   ]
  },
  {
   "cell_type": "markdown",
   "metadata": {},
   "source": [
    "##### Observation:\n",
    "\n",
    "Data has been loaded correctly into the pandas dataframe \n",
    "\n",
    "There are 499 rows and 19 features\n",
    "\n",
    "There are missing values in 'referral_exp_in_years', 'referral_current_salary', 'referral_10_th_marks', 'referral_post_grad_marks' etc.\n",
    "\n",
    "'referral_aptitude_numerical_score' and 'referral_aptitude_reasoning_score' are categorised as object type. However based on the values available in this feature/column, it should be numeric.\n",
    "\n",
    "'referral_10_th_marks' and 'referral_graduation_marks' have minimu value as '-1' which need to checked"
   ]
  },
  {
   "cell_type": "markdown",
   "metadata": {},
   "source": [
    "### Data Pre-processing"
   ]
  },
  {
   "cell_type": "markdown",
   "metadata": {},
   "source": [
    "#### Treat BAD Data"
   ]
  },
  {
   "cell_type": "code",
   "execution_count": 143,
   "metadata": {},
   "outputs": [
    {
     "data": {
      "text/plain": [
       "array(['10.00', '6.09', '41.74', '31.30', '25.65', '38.70', '30.43',\n",
       "       '5.65', '18.70', '23.04', '27.39', '28.26', '32.61', '40.00',\n",
       "       '24.78', '0.87', '27.83', '18.26', '20.87', '6.52', '21.74',\n",
       "       '4.78', '26.96', '39.13', '3.04', '13.48', '33.91', '3.48',\n",
       "       '15.65', '13.91', '38.26', '3.91', '28.70', '23.48', '10.43',\n",
       "       '8.26', '39.57', '7.39', '30.87', '5.22', '12.61', '16.96',\n",
       "       '34.35', '33.04', '10.87', '4.35', '35.65', '16.52', '20.43',\n",
       "       '36.52', '40.43', '7.83', '6.96', '22.17', '34.78', '33.48',\n",
       "       '43.48', '0.43', '17.39', '9.13', '29.57', '19.13', '17.83',\n",
       "       '37.83', '36.09', '23.91', '36.96', '19.57', '31.74', '22.61',\n",
       "       '12.17', '37.39', '14.78', '30.00', '11.74', '35.22', '2.61',\n",
       "       '40.87', '42.61', '29.13', '?', '9.57', '43.04', '13.04', '25.22',\n",
       "       '1.74', '15.22', '11.30', '32.17', '14.35', '20.00', nan, '2.17',\n",
       "       '26.52', '26.09', '1.30', '8.70', '41.30', '16.09', '42.17',\n",
       "       '24.35'], dtype=object)"
      ]
     },
     "execution_count": 143,
     "metadata": {},
     "output_type": "execute_result"
    }
   ],
   "source": [
    "## Let's print the unique count of the above two variables to understand the wrong data points\n",
    "df['referral_aptitude_numerical_score'].unique()"
   ]
  },
  {
   "cell_type": "code",
   "execution_count": 144,
   "metadata": {},
   "outputs": [],
   "source": [
    "## So we have \"?\" in the feature. Let's look at the second feature as well"
   ]
  },
  {
   "cell_type": "code",
   "execution_count": 145,
   "metadata": {},
   "outputs": [
    {
     "data": {
      "text/plain": [
       "array(['?', '20.87', '40.00', '23.48', '16.52', '32.61', '18.26', '2.50',\n",
       "       '36.52', '3.04', '38.70', '26.52', '22.61', '14.35', '0.87',\n",
       "       '13.04', '39.13', '34.35', '43.48', '20.43', '25.22', '37.83',\n",
       "       '3.91', '28.26', '15.22', '15.65', '35.22', '17.39', '24.78',\n",
       "       '33.04', '42.61', '31.74', '21.74', '6.09', '2.17', '8.70',\n",
       "       '41.30', '26.09', '23.91', '27.83', '9.57', '10.43', '40.87',\n",
       "       '12.17', '6.96', '33.48', '12.61', '42.17', '6.52', '2.61',\n",
       "       '23.04', '20.00', '7.39', '4.35', '25.65', '31.30', '30.43',\n",
       "       '5.22', '10.00', '37.39', '27.39', '0.23', '26.96', '34.78',\n",
       "       '13.48', '19.13', '8.26', '24.35', '21.30', '0.67', '0.99',\n",
       "       '29.57', '78.00', '36.96', '19.57', '36.09', '38.26', '28.70',\n",
       "       '69.67', '33.91', '10.87', '0.43', '89.00', '18.70', '13.91', nan,\n",
       "       '32.17', '7.83', '40.43', '16.09', '43.04', '30.00', '39.57',\n",
       "       '29.13', '41.74', '11.74', '22.17', '16.96', '3.48', '35.65',\n",
       "       '30.87', '4.78', '1.74', '11.30', '9.13', '1.30', '5.65', '14.78'],\n",
       "      dtype=object)"
      ]
     },
     "execution_count": 145,
     "metadata": {},
     "output_type": "execute_result"
    }
   ],
   "source": [
    "df['referral_aptitude_reasoning_score'].unique()"
   ]
  },
  {
   "cell_type": "code",
   "execution_count": 146,
   "metadata": {},
   "outputs": [],
   "source": [
    "## So we have \"?\" in this feature as well. "
   ]
  },
  {
   "cell_type": "markdown",
   "metadata": {},
   "source": [
    "'referral_aptitude_reasoning_score' and 'referral_aptitude_numerical_score' are currently identified as 'object' datatype. Hence, we cannot retrieve the mean or median value of these fields to replace the bad data.\n",
    "\n",
    "Hence, first replace ? with Null"
   ]
  },
  {
   "cell_type": "code",
   "execution_count": 147,
   "metadata": {},
   "outputs": [],
   "source": [
    "df['referral_aptitude_reasoning_score'] = df['referral_aptitude_reasoning_score'].replace('?',np.NaN)\n",
    "df['referral_aptitude_numerical_score'] = df['referral_aptitude_numerical_score'].replace('?',np.NaN)"
   ]
  },
  {
   "cell_type": "code",
   "execution_count": 148,
   "metadata": {},
   "outputs": [],
   "source": [
    "df['referral_aptitude_reasoning_score'] = df['referral_aptitude_reasoning_score'].astype('float64')\n",
    "df['referral_aptitude_numerical_score'] = df['referral_aptitude_numerical_score'].astype('float64')"
   ]
  },
  {
   "cell_type": "code",
   "execution_count": 149,
   "metadata": {},
   "outputs": [
    {
     "name": "stdout",
     "output_type": "stream",
     "text": [
      "<class 'pandas.core.frame.DataFrame'>\n",
      "RangeIndex: 499 entries, 0 to 498\n",
      "Data columns (total 19 columns):\n",
      " #   Column                               Non-Null Count  Dtype  \n",
      "---  ------                               --------------  -----  \n",
      " 0   referral_id                          499 non-null    int64  \n",
      " 1   referral_age                         499 non-null    int64  \n",
      " 2   referral_exp_in_years                499 non-null    float64\n",
      " 3   referral_preferred_city              499 non-null    object \n",
      " 4   referral_current_salary              499 non-null    int64  \n",
      " 5   referral_10_th_marks                 498 non-null    float64\n",
      " 6   referral_12th_marks                  499 non-null    int64  \n",
      " 7   referral_graduation_marks            498 non-null    float64\n",
      " 8   referral_post_grad_marks             498 non-null    float64\n",
      " 9   referral_gender                      499 non-null    object \n",
      " 10  referral_expected_sal                497 non-null    float64\n",
      " 11  referral_aptitude_numerical_score    495 non-null    float64\n",
      " 12  referral_aptitude_verbal_score       489 non-null    float64\n",
      " 13  referral_aptitude_reasoning_score    491 non-null    float64\n",
      " 14  referral_Management_Interview_score  498 non-null    float64\n",
      " 15  referral_HR_Interview_score          499 non-null    int64  \n",
      " 16  Salary offered                       499 non-null    int64  \n",
      " 17  Emp_Salary_Grade                     499 non-null    object \n",
      " 18  Joined                               499 non-null    object \n",
      "dtypes: float64(9), int64(6), object(4)\n",
      "memory usage: 74.2+ KB\n"
     ]
    }
   ],
   "source": [
    "df.info()"
   ]
  },
  {
   "cell_type": "code",
   "execution_count": 150,
   "metadata": {},
   "outputs": [
    {
     "data": {
      "text/plain": [
       "0        NaN\n",
       "1      20.87\n",
       "2      40.00\n",
       "3      23.48\n",
       "4      16.52\n",
       "       ...  \n",
       "494     6.52\n",
       "495    29.13\n",
       "496    39.57\n",
       "497     6.52\n",
       "498     1.74\n",
       "Name: referral_aptitude_reasoning_score, Length: 499, dtype: float64"
      ]
     },
     "execution_count": 150,
     "metadata": {},
     "output_type": "execute_result"
    }
   ],
   "source": [
    "df['referral_aptitude_reasoning_score']"
   ]
  },
  {
   "cell_type": "markdown",
   "metadata": {},
   "source": [
    "We observe that both 'referral_aptitude_reasoning_score' and 'referral_aptitude_numerical_score' fields are now identified as 'float64' datatype"
   ]
  },
  {
   "cell_type": "markdown",
   "metadata": {},
   "source": [
    "#### Treat Anomalies"
   ]
  },
  {
   "cell_type": "markdown",
   "metadata": {},
   "source": [
    "Lets check the anomaly observed in 'referral_10_th_marks','referral_graduation_marks' \n",
    "\n",
    "Lets assume that the marks have to atleast 35"
   ]
  },
  {
   "cell_type": "code",
   "execution_count": 151,
   "metadata": {},
   "outputs": [
    {
     "data": {
      "text/html": [
       "<div>\n",
       "<style scoped>\n",
       "    .dataframe tbody tr th:only-of-type {\n",
       "        vertical-align: middle;\n",
       "    }\n",
       "\n",
       "    .dataframe tbody tr th {\n",
       "        vertical-align: top;\n",
       "    }\n",
       "\n",
       "    .dataframe thead th {\n",
       "        text-align: right;\n",
       "    }\n",
       "</style>\n",
       "<table border=\"1\" class=\"dataframe\">\n",
       "  <thead>\n",
       "    <tr style=\"text-align: right;\">\n",
       "      <th></th>\n",
       "      <th>referral_id</th>\n",
       "      <th>referral_age</th>\n",
       "      <th>referral_exp_in_years</th>\n",
       "      <th>referral_preferred_city</th>\n",
       "      <th>referral_current_salary</th>\n",
       "      <th>referral_10_th_marks</th>\n",
       "      <th>referral_12th_marks</th>\n",
       "      <th>referral_graduation_marks</th>\n",
       "      <th>referral_post_grad_marks</th>\n",
       "      <th>referral_gender</th>\n",
       "      <th>referral_expected_sal</th>\n",
       "      <th>referral_aptitude_numerical_score</th>\n",
       "      <th>referral_aptitude_verbal_score</th>\n",
       "      <th>referral_aptitude_reasoning_score</th>\n",
       "      <th>referral_Management_Interview_score</th>\n",
       "      <th>referral_HR_Interview_score</th>\n",
       "      <th>Salary offered</th>\n",
       "      <th>Emp_Salary_Grade</th>\n",
       "      <th>Joined</th>\n",
       "    </tr>\n",
       "  </thead>\n",
       "  <tbody>\n",
       "    <tr>\n",
       "      <th>89</th>\n",
       "      <td>90</td>\n",
       "      <td>27</td>\n",
       "      <td>4.0</td>\n",
       "      <td>Bangalore</td>\n",
       "      <td>85</td>\n",
       "      <td>-1.0</td>\n",
       "      <td>81</td>\n",
       "      <td>93.0</td>\n",
       "      <td>86.0</td>\n",
       "      <td>Female</td>\n",
       "      <td>103.0</td>\n",
       "      <td>31.74</td>\n",
       "      <td>6.52</td>\n",
       "      <td>30.43</td>\n",
       "      <td>10.0</td>\n",
       "      <td>3</td>\n",
       "      <td>101</td>\n",
       "      <td>EL0</td>\n",
       "      <td>Yes</td>\n",
       "    </tr>\n",
       "  </tbody>\n",
       "</table>\n",
       "</div>"
      ],
      "text/plain": [
       "    referral_id  referral_age  referral_exp_in_years referral_preferred_city  \\\n",
       "89           90            27                    4.0               Bangalore   \n",
       "\n",
       "    referral_current_salary  referral_10_th_marks  referral_12th_marks  \\\n",
       "89                       85                  -1.0                   81   \n",
       "\n",
       "    referral_graduation_marks  referral_post_grad_marks referral_gender  \\\n",
       "89                       93.0                      86.0          Female   \n",
       "\n",
       "    referral_expected_sal  referral_aptitude_numerical_score  \\\n",
       "89                  103.0                              31.74   \n",
       "\n",
       "    referral_aptitude_verbal_score  referral_aptitude_reasoning_score  \\\n",
       "89                            6.52                              30.43   \n",
       "\n",
       "    referral_Management_Interview_score  referral_HR_Interview_score  \\\n",
       "89                                 10.0                            3   \n",
       "\n",
       "    Salary offered Emp_Salary_Grade Joined  \n",
       "89             101              EL0    Yes  "
      ]
     },
     "execution_count": 151,
     "metadata": {},
     "output_type": "execute_result"
    }
   ],
   "source": [
    "df[df['referral_10_th_marks'] < 35]"
   ]
  },
  {
   "cell_type": "code",
   "execution_count": 152,
   "metadata": {},
   "outputs": [
    {
     "data": {
      "text/html": [
       "<div>\n",
       "<style scoped>\n",
       "    .dataframe tbody tr th:only-of-type {\n",
       "        vertical-align: middle;\n",
       "    }\n",
       "\n",
       "    .dataframe tbody tr th {\n",
       "        vertical-align: top;\n",
       "    }\n",
       "\n",
       "    .dataframe thead th {\n",
       "        text-align: right;\n",
       "    }\n",
       "</style>\n",
       "<table border=\"1\" class=\"dataframe\">\n",
       "  <thead>\n",
       "    <tr style=\"text-align: right;\">\n",
       "      <th></th>\n",
       "      <th>referral_id</th>\n",
       "      <th>referral_age</th>\n",
       "      <th>referral_exp_in_years</th>\n",
       "      <th>referral_preferred_city</th>\n",
       "      <th>referral_current_salary</th>\n",
       "      <th>referral_10_th_marks</th>\n",
       "      <th>referral_12th_marks</th>\n",
       "      <th>referral_graduation_marks</th>\n",
       "      <th>referral_post_grad_marks</th>\n",
       "      <th>referral_gender</th>\n",
       "      <th>referral_expected_sal</th>\n",
       "      <th>referral_aptitude_numerical_score</th>\n",
       "      <th>referral_aptitude_verbal_score</th>\n",
       "      <th>referral_aptitude_reasoning_score</th>\n",
       "      <th>referral_Management_Interview_score</th>\n",
       "      <th>referral_HR_Interview_score</th>\n",
       "      <th>Salary offered</th>\n",
       "      <th>Emp_Salary_Grade</th>\n",
       "      <th>Joined</th>\n",
       "    </tr>\n",
       "  </thead>\n",
       "  <tbody>\n",
       "    <tr>\n",
       "      <th>270</th>\n",
       "      <td>271</td>\n",
       "      <td>29</td>\n",
       "      <td>6.0</td>\n",
       "      <td>Bangalore</td>\n",
       "      <td>126</td>\n",
       "      <td>82.0</td>\n",
       "      <td>88</td>\n",
       "      <td>-1.0</td>\n",
       "      <td>64.0</td>\n",
       "      <td>Male</td>\n",
       "      <td>143.0</td>\n",
       "      <td>10.43</td>\n",
       "      <td>27.39</td>\n",
       "      <td>27.83</td>\n",
       "      <td>1.0</td>\n",
       "      <td>6</td>\n",
       "      <td>141</td>\n",
       "      <td>ML0</td>\n",
       "      <td>No</td>\n",
       "    </tr>\n",
       "  </tbody>\n",
       "</table>\n",
       "</div>"
      ],
      "text/plain": [
       "     referral_id  referral_age  referral_exp_in_years referral_preferred_city  \\\n",
       "270          271            29                    6.0               Bangalore   \n",
       "\n",
       "     referral_current_salary  referral_10_th_marks  referral_12th_marks  \\\n",
       "270                      126                  82.0                   88   \n",
       "\n",
       "     referral_graduation_marks  referral_post_grad_marks referral_gender  \\\n",
       "270                       -1.0                      64.0            Male   \n",
       "\n",
       "     referral_expected_sal  referral_aptitude_numerical_score  \\\n",
       "270                  143.0                              10.43   \n",
       "\n",
       "     referral_aptitude_verbal_score  referral_aptitude_reasoning_score  \\\n",
       "270                           27.39                              27.83   \n",
       "\n",
       "     referral_Management_Interview_score  referral_HR_Interview_score  \\\n",
       "270                                  1.0                            6   \n",
       "\n",
       "     Salary offered Emp_Salary_Grade Joined  \n",
       "270             141              ML0     No  "
      ]
     },
     "execution_count": 152,
     "metadata": {},
     "output_type": "execute_result"
    }
   ],
   "source": [
    "df[df['referral_graduation_marks'] < 35]"
   ]
  },
  {
   "cell_type": "markdown",
   "metadata": {},
   "source": [
    "From above records we observe that '-1' has been enterd maybe because the data was not available. However, this data has to be imputed. We can either impute it with mean/median value or make some assumption."
   ]
  },
  {
   "cell_type": "markdown",
   "metadata": {},
   "source": [
    "Let's assume 10th Marks are almost same as 12th marks and impute the same"
   ]
  },
  {
   "cell_type": "code",
   "execution_count": 153,
   "metadata": {},
   "outputs": [
    {
     "data": {
      "text/plain": [
       "81"
      ]
     },
     "execution_count": 153,
     "metadata": {},
     "output_type": "execute_result"
    }
   ],
   "source": [
    "marks_12th = df[df['referral_10_th_marks'] < 35]['referral_12th_marks'].values[0]\n",
    "marks_12th"
   ]
  },
  {
   "cell_type": "code",
   "execution_count": 154,
   "metadata": {},
   "outputs": [],
   "source": [
    "df['referral_10_th_marks'] = df['referral_10_th_marks'].replace(to_replace=-1,value=marks_12th)"
   ]
  },
  {
   "cell_type": "code",
   "execution_count": 155,
   "metadata": {},
   "outputs": [
    {
     "data": {
      "text/plain": [
       "referral_id                                   90\n",
       "referral_age                                  27\n",
       "referral_exp_in_years                          4\n",
       "referral_preferred_city                Bangalore\n",
       "referral_current_salary                       85\n",
       "referral_10_th_marks                          81\n",
       "referral_12th_marks                           81\n",
       "referral_graduation_marks                     93\n",
       "referral_post_grad_marks                      86\n",
       "referral_gender                           Female\n",
       "referral_expected_sal                        103\n",
       "referral_aptitude_numerical_score          31.74\n",
       "referral_aptitude_verbal_score              6.52\n",
       "referral_aptitude_reasoning_score          30.43\n",
       "referral_Management_Interview_score           10\n",
       "referral_HR_Interview_score                    3\n",
       "Salary offered                               101\n",
       "Emp_Salary_Grade                             EL0\n",
       "Joined                                       Yes\n",
       "Name: 89, dtype: object"
      ]
     },
     "execution_count": 155,
     "metadata": {},
     "output_type": "execute_result"
    }
   ],
   "source": [
    "df.iloc[89]"
   ]
  },
  {
   "cell_type": "code",
   "execution_count": 156,
   "metadata": {},
   "outputs": [
    {
     "data": {
      "text/plain": [
       "count    498.000000\n",
       "mean      77.459839\n",
       "std       10.559375\n",
       "min       60.000000\n",
       "25%       68.000000\n",
       "50%       78.000000\n",
       "75%       87.000000\n",
       "max      103.000000\n",
       "Name: referral_10_th_marks, dtype: float64"
      ]
     },
     "execution_count": 156,
     "metadata": {},
     "output_type": "execute_result"
    }
   ],
   "source": [
    "df['referral_10_th_marks'].describe()"
   ]
  },
  {
   "cell_type": "code",
   "execution_count": 157,
   "metadata": {},
   "outputs": [
    {
     "data": {
      "text/plain": [
       "count    498.000000\n",
       "mean      77.096386\n",
       "std       10.812223\n",
       "min       -1.000000\n",
       "25%       68.000000\n",
       "50%       77.000000\n",
       "75%       86.000000\n",
       "max      104.000000\n",
       "Name: referral_graduation_marks, dtype: float64"
      ]
     },
     "execution_count": 157,
     "metadata": {},
     "output_type": "execute_result"
    }
   ],
   "source": [
    "df['referral_graduation_marks'].describe()"
   ]
  },
  {
   "cell_type": "code",
   "execution_count": 158,
   "metadata": {},
   "outputs": [],
   "source": [
    "df['referral_graduation_marks'] = df['referral_graduation_marks'].replace(-1,df['referral_graduation_marks'].mean())"
   ]
  },
  {
   "cell_type": "code",
   "execution_count": 159,
   "metadata": {},
   "outputs": [
    {
     "data": {
      "text/plain": [
       "referral_id                                  271\n",
       "referral_age                                  29\n",
       "referral_exp_in_years                          6\n",
       "referral_preferred_city                Bangalore\n",
       "referral_current_salary                      126\n",
       "referral_10_th_marks                          82\n",
       "referral_12th_marks                           88\n",
       "referral_graduation_marks                77.0964\n",
       "referral_post_grad_marks                      64\n",
       "referral_gender                             Male\n",
       "referral_expected_sal                        143\n",
       "referral_aptitude_numerical_score          10.43\n",
       "referral_aptitude_verbal_score             27.39\n",
       "referral_aptitude_reasoning_score          27.83\n",
       "referral_Management_Interview_score            1\n",
       "referral_HR_Interview_score                    6\n",
       "Salary offered                               141\n",
       "Emp_Salary_Grade                             ML0\n",
       "Joined                                        No\n",
       "Name: 270, dtype: object"
      ]
     },
     "execution_count": 159,
     "metadata": {},
     "output_type": "execute_result"
    }
   ],
   "source": [
    "df.iloc[270]"
   ]
  },
  {
   "cell_type": "code",
   "execution_count": 160,
   "metadata": {},
   "outputs": [
    {
     "data": {
      "text/plain": [
       "count    498.000000\n",
       "mean      77.253206\n",
       "std       10.227796\n",
       "min       60.000000\n",
       "25%       68.000000\n",
       "50%       77.000000\n",
       "75%       86.000000\n",
       "max      104.000000\n",
       "Name: referral_graduation_marks, dtype: float64"
      ]
     },
     "execution_count": 160,
     "metadata": {},
     "output_type": "execute_result"
    }
   ],
   "source": [
    "df['referral_graduation_marks'].describe()"
   ]
  },
  {
   "cell_type": "markdown",
   "metadata": {},
   "source": [
    "Lets check the unique levels available in the object type variable"
   ]
  },
  {
   "cell_type": "markdown",
   "metadata": {},
   "source": [
    "We have 4 categorical variables:\n",
    "\n",
    "referral_preferred_city\n",
    "\n",
    "referral_gender        \n",
    "\n",
    "Emp_Salary_Grade       \n",
    "\n",
    "Joined"
   ]
  },
  {
   "cell_type": "code",
   "execution_count": 161,
   "metadata": {},
   "outputs": [
    {
     "data": {
      "text/plain": [
       "Mumbai       232\n",
       "Bangalore    142\n",
       "Delhi         93\n",
       "Pune          32\n",
       "Name: referral_preferred_city, dtype: int64"
      ]
     },
     "execution_count": 161,
     "metadata": {},
     "output_type": "execute_result"
    }
   ],
   "source": [
    "df['referral_preferred_city'].value_counts()"
   ]
  },
  {
   "cell_type": "code",
   "execution_count": 166,
   "metadata": {},
   "outputs": [
    {
     "data": {
      "text/plain": [
       "Male      261\n",
       "Female    238\n",
       "Name: referral_gender, dtype: int64"
      ]
     },
     "execution_count": 166,
     "metadata": {},
     "output_type": "execute_result"
    }
   ],
   "source": [
    "df['referral_gender'].value_counts()"
   ]
  },
  {
   "cell_type": "code",
   "execution_count": 167,
   "metadata": {},
   "outputs": [
    {
     "data": {
      "text/plain": [
       "EL0    221\n",
       "ML0    187\n",
       "EE0     91\n",
       "Name: Emp_Salary_Grade, dtype: int64"
      ]
     },
     "execution_count": 167,
     "metadata": {},
     "output_type": "execute_result"
    }
   ],
   "source": [
    "df['Emp_Salary_Grade'].value_counts()"
   ]
  },
  {
   "cell_type": "code",
   "execution_count": 168,
   "metadata": {},
   "outputs": [
    {
     "data": {
      "text/plain": [
       "No     261\n",
       "Yes    238\n",
       "Name: Joined, dtype: int64"
      ]
     },
     "execution_count": 168,
     "metadata": {},
     "output_type": "execute_result"
    }
   ],
   "source": [
    "df['Joined'].value_counts()"
   ]
  },
  {
   "cell_type": "code",
   "execution_count": 169,
   "metadata": {},
   "outputs": [],
   "source": [
    "## As it is just 1 record, we can go ahead and replace it with mode value\n",
    "df['referral_gender'] = df['referral_gender'].replace('?',df['referral_gender'].mode()[0])"
   ]
  },
  {
   "cell_type": "markdown",
   "metadata": {},
   "source": [
    "#### Treat Missing Values"
   ]
  },
  {
   "cell_type": "code",
   "execution_count": 170,
   "metadata": {},
   "outputs": [
    {
     "data": {
      "text/plain": [
       "referral_id                             0\n",
       "referral_age                            0\n",
       "referral_exp_in_years                   0\n",
       "referral_preferred_city                 0\n",
       "referral_current_salary                 0\n",
       "referral_10_th_marks                    1\n",
       "referral_12th_marks                     0\n",
       "referral_graduation_marks               1\n",
       "referral_post_grad_marks                1\n",
       "referral_gender                         0\n",
       "referral_expected_sal                   2\n",
       "referral_aptitude_numerical_score       4\n",
       "referral_aptitude_verbal_score         10\n",
       "referral_aptitude_reasoning_score       8\n",
       "referral_Management_Interview_score     1\n",
       "referral_HR_Interview_score             0\n",
       "Salary offered                          0\n",
       "Emp_Salary_Grade                        0\n",
       "Joined                                  0\n",
       "dtype: int64"
      ]
     },
     "execution_count": 170,
     "metadata": {},
     "output_type": "execute_result"
    }
   ],
   "source": [
    "df.isnull().sum()"
   ]
  },
  {
   "cell_type": "code",
   "execution_count": 171,
   "metadata": {},
   "outputs": [],
   "source": [
    "## Let's start with referral_aptitude_verbal_score  feature which has 10 missing values"
   ]
  },
  {
   "cell_type": "code",
   "execution_count": 172,
   "metadata": {},
   "outputs": [
    {
     "data": {
      "text/plain": [
       "<AxesSubplot:xlabel='referral_aptitude_verbal_score'>"
      ]
     },
     "execution_count": 172,
     "metadata": {},
     "output_type": "execute_result"
    },
    {
     "data": {
      "image/png": "[encoded data removed]",
      "text/plain": [
       "<Figure size 432x288 with 1 Axes>"
      ]
     },
     "metadata": {
      "needs_background": "light"
     },
     "output_type": "display_data"
    }
   ],
   "source": [
    "sns.boxplot(x='referral_aptitude_verbal_score', data=df) "
   ]
  },
  {
   "cell_type": "markdown",
   "metadata": {},
   "source": [
    "Since this feature has no possible outliers , we can use mean to impute null values.\n"
   ]
  },
  {
   "cell_type": "code",
   "execution_count": 173,
   "metadata": {},
   "outputs": [
    {
     "data": {
      "text/plain": [
       "count    489.000000\n",
       "mean      21.840491\n",
       "std       12.338425\n",
       "min        0.430000\n",
       "25%       11.740000\n",
       "50%       20.870000\n",
       "75%       32.610000\n",
       "max       43.480000\n",
       "Name: referral_aptitude_verbal_score, dtype: float64"
      ]
     },
     "execution_count": 173,
     "metadata": {},
     "output_type": "execute_result"
    }
   ],
   "source": [
    "df.referral_aptitude_verbal_score.describe()"
   ]
  },
  {
   "cell_type": "code",
   "execution_count": 174,
   "metadata": {
    "ExecuteTime": {
     "end_time": "2020-03-31T08:43:50.322191Z",
     "start_time": "2020-03-31T08:43:50.317239Z"
    }
   },
   "outputs": [],
   "source": [
    "df.referral_aptitude_verbal_score=df.referral_aptitude_verbal_score.fillna(df.referral_aptitude_verbal_score.mean())"
   ]
  },
  {
   "cell_type": "code",
   "execution_count": 175,
   "metadata": {},
   "outputs": [],
   "source": [
    "## For other fields lets impute 'median'  "
   ]
  },
  {
   "cell_type": "code",
   "execution_count": 176,
   "metadata": {},
   "outputs": [
    {
     "data": {
      "text/plain": [
       "referral_id                            0\n",
       "referral_age                           0\n",
       "referral_exp_in_years                  0\n",
       "referral_preferred_city                0\n",
       "referral_current_salary                0\n",
       "referral_10_th_marks                   1\n",
       "referral_12th_marks                    0\n",
       "referral_graduation_marks              1\n",
       "referral_post_grad_marks               1\n",
       "referral_gender                        0\n",
       "referral_expected_sal                  2\n",
       "referral_aptitude_numerical_score      4\n",
       "referral_aptitude_verbal_score         0\n",
       "referral_aptitude_reasoning_score      8\n",
       "referral_Management_Interview_score    1\n",
       "referral_HR_Interview_score            0\n",
       "Salary offered                         0\n",
       "Emp_Salary_Grade                       0\n",
       "Joined                                 0\n",
       "dtype: int64"
      ]
     },
     "execution_count": 176,
     "metadata": {},
     "output_type": "execute_result"
    }
   ],
   "source": [
    "df.isnull().sum()"
   ]
  },
  {
   "cell_type": "code",
   "execution_count": 177,
   "metadata": {},
   "outputs": [],
   "source": [
    "df_num = df.select_dtypes(['float64','int64'])\n",
    "df_cat = df.select_dtypes(['object'])"
   ]
  },
  {
   "cell_type": "code",
   "execution_count": 178,
   "metadata": {},
   "outputs": [
    {
     "name": "stdout",
     "output_type": "stream",
     "text": [
      "<class 'pandas.core.frame.DataFrame'>\n",
      "RangeIndex: 499 entries, 0 to 498\n",
      "Data columns (total 15 columns):\n",
      " #   Column                               Non-Null Count  Dtype  \n",
      "---  ------                               --------------  -----  \n",
      " 0   referral_id                          499 non-null    int64  \n",
      " 1   referral_age                         499 non-null    int64  \n",
      " 2   referral_exp_in_years                499 non-null    float64\n",
      " 3   referral_current_salary              499 non-null    int64  \n",
      " 4   referral_10_th_marks                 498 non-null    float64\n",
      " 5   referral_12th_marks                  499 non-null    int64  \n",
      " 6   referral_graduation_marks            498 non-null    float64\n",
      " 7   referral_post_grad_marks             498 non-null    float64\n",
      " 8   referral_expected_sal                497 non-null    float64\n",
      " 9   referral_aptitude_numerical_score    495 non-null    float64\n",
      " 10  referral_aptitude_verbal_score       499 non-null    float64\n",
      " 11  referral_aptitude_reasoning_score    491 non-null    float64\n",
      " 12  referral_Management_Interview_score  498 non-null    float64\n",
      " 13  referral_HR_Interview_score          499 non-null    int64  \n",
      " 14  Salary offered                       499 non-null    int64  \n",
      "dtypes: float64(9), int64(6)\n",
      "memory usage: 58.6 KB\n"
     ]
    }
   ],
   "source": [
    "df_num.info()"
   ]
  },
  {
   "cell_type": "code",
   "execution_count": 179,
   "metadata": {},
   "outputs": [
    {
     "name": "stdout",
     "output_type": "stream",
     "text": [
      "<class 'pandas.core.frame.DataFrame'>\n",
      "RangeIndex: 499 entries, 0 to 498\n",
      "Data columns (total 4 columns):\n",
      " #   Column                   Non-Null Count  Dtype \n",
      "---  ------                   --------------  ----- \n",
      " 0   referral_preferred_city  499 non-null    object\n",
      " 1   referral_gender          499 non-null    object\n",
      " 2   Emp_Salary_Grade         499 non-null    object\n",
      " 3   Joined                   499 non-null    object\n",
      "dtypes: object(4)\n",
      "memory usage: 15.7+ KB\n"
     ]
    }
   ],
   "source": [
    "df_cat.info()"
   ]
  },
  {
   "cell_type": "code",
   "execution_count": 180,
   "metadata": {
    "ExecuteTime": {
     "end_time": "2020-03-31T08:43:58.767837Z",
     "start_time": "2020-03-31T08:43:58.757864Z"
    }
   },
   "outputs": [],
   "source": [
    "from sklearn.impute import SimpleImputer\n",
    "imputer = SimpleImputer(missing_values= np.nan, strategy='median')"
   ]
  },
  {
   "cell_type": "code",
   "execution_count": 181,
   "metadata": {},
   "outputs": [],
   "source": [
    "imr = imputer.fit(df_num)\n",
    "df_num = pd.DataFrame(imr.transform(df_num), columns=df_num.columns)"
   ]
  },
  {
   "cell_type": "code",
   "execution_count": 182,
   "metadata": {},
   "outputs": [
    {
     "data": {
      "text/plain": [
       "referral_id                            0\n",
       "referral_age                           0\n",
       "referral_exp_in_years                  0\n",
       "referral_current_salary                0\n",
       "referral_10_th_marks                   0\n",
       "referral_12th_marks                    0\n",
       "referral_graduation_marks              0\n",
       "referral_post_grad_marks               0\n",
       "referral_expected_sal                  0\n",
       "referral_aptitude_numerical_score      0\n",
       "referral_aptitude_verbal_score         0\n",
       "referral_aptitude_reasoning_score      0\n",
       "referral_Management_Interview_score    0\n",
       "referral_HR_Interview_score            0\n",
       "Salary offered                         0\n",
       "dtype: int64"
      ]
     },
     "execution_count": 182,
     "metadata": {},
     "output_type": "execute_result"
    }
   ],
   "source": [
    "df_num.isnull().sum()"
   ]
  },
  {
   "cell_type": "code",
   "execution_count": 185,
   "metadata": {},
   "outputs": [
    {
     "data": {
      "text/html": [
       "<div>\n",
       "<style scoped>\n",
       "    .dataframe tbody tr th:only-of-type {\n",
       "        vertical-align: middle;\n",
       "    }\n",
       "\n",
       "    .dataframe tbody tr th {\n",
       "        vertical-align: top;\n",
       "    }\n",
       "\n",
       "    .dataframe thead th {\n",
       "        text-align: right;\n",
       "    }\n",
       "</style>\n",
       "<table border=\"1\" class=\"dataframe\">\n",
       "  <thead>\n",
       "    <tr style=\"text-align: right;\">\n",
       "      <th></th>\n",
       "      <th>count</th>\n",
       "      <th>mean</th>\n",
       "      <th>std</th>\n",
       "      <th>min</th>\n",
       "      <th>25%</th>\n",
       "      <th>50%</th>\n",
       "      <th>75%</th>\n",
       "      <th>max</th>\n",
       "    </tr>\n",
       "  </thead>\n",
       "  <tbody>\n",
       "    <tr>\n",
       "      <th>referral_id</th>\n",
       "      <td>499.0</td>\n",
       "      <td>250.000000</td>\n",
       "      <td>144.193157</td>\n",
       "      <td>1.00</td>\n",
       "      <td>125.50</td>\n",
       "      <td>250.00</td>\n",
       "      <td>374.500</td>\n",
       "      <td>499.00</td>\n",
       "    </tr>\n",
       "    <tr>\n",
       "      <th>referral_age</th>\n",
       "      <td>499.0</td>\n",
       "      <td>27.020040</td>\n",
       "      <td>2.811979</td>\n",
       "      <td>20.00</td>\n",
       "      <td>25.00</td>\n",
       "      <td>27.00</td>\n",
       "      <td>29.000</td>\n",
       "      <td>65.00</td>\n",
       "    </tr>\n",
       "    <tr>\n",
       "      <th>referral_exp_in_years</th>\n",
       "      <td>499.0</td>\n",
       "      <td>4.053307</td>\n",
       "      <td>2.609814</td>\n",
       "      <td>1.00</td>\n",
       "      <td>2.00</td>\n",
       "      <td>4.00</td>\n",
       "      <td>6.000</td>\n",
       "      <td>42.00</td>\n",
       "    </tr>\n",
       "    <tr>\n",
       "      <th>referral_current_salary</th>\n",
       "      <td>499.0</td>\n",
       "      <td>86.472946</td>\n",
       "      <td>52.566584</td>\n",
       "      <td>25.00</td>\n",
       "      <td>45.00</td>\n",
       "      <td>85.00</td>\n",
       "      <td>126.000</td>\n",
       "      <td>853.00</td>\n",
       "    </tr>\n",
       "    <tr>\n",
       "      <th>referral_10_th_marks</th>\n",
       "      <td>499.0</td>\n",
       "      <td>77.460922</td>\n",
       "      <td>10.548795</td>\n",
       "      <td>60.00</td>\n",
       "      <td>68.00</td>\n",
       "      <td>78.00</td>\n",
       "      <td>87.000</td>\n",
       "      <td>103.00</td>\n",
       "    </tr>\n",
       "    <tr>\n",
       "      <th>referral_12th_marks</th>\n",
       "      <td>499.0</td>\n",
       "      <td>77.478958</td>\n",
       "      <td>10.932113</td>\n",
       "      <td>12.00</td>\n",
       "      <td>69.00</td>\n",
       "      <td>77.00</td>\n",
       "      <td>87.000</td>\n",
       "      <td>95.00</td>\n",
       "    </tr>\n",
       "    <tr>\n",
       "      <th>referral_graduation_marks</th>\n",
       "      <td>499.0</td>\n",
       "      <td>77.252698</td>\n",
       "      <td>10.217528</td>\n",
       "      <td>60.00</td>\n",
       "      <td>68.00</td>\n",
       "      <td>77.00</td>\n",
       "      <td>86.000</td>\n",
       "      <td>104.00</td>\n",
       "    </tr>\n",
       "    <tr>\n",
       "      <th>referral_post_grad_marks</th>\n",
       "      <td>499.0</td>\n",
       "      <td>78.268537</td>\n",
       "      <td>10.467968</td>\n",
       "      <td>60.00</td>\n",
       "      <td>69.00</td>\n",
       "      <td>78.00</td>\n",
       "      <td>88.500</td>\n",
       "      <td>101.00</td>\n",
       "    </tr>\n",
       "    <tr>\n",
       "      <th>referral_expected_sal</th>\n",
       "      <td>499.0</td>\n",
       "      <td>108.669339</td>\n",
       "      <td>58.605352</td>\n",
       "      <td>40.00</td>\n",
       "      <td>62.00</td>\n",
       "      <td>103.00</td>\n",
       "      <td>143.000</td>\n",
       "      <td>870.00</td>\n",
       "    </tr>\n",
       "    <tr>\n",
       "      <th>referral_aptitude_numerical_score</th>\n",
       "      <td>499.0</td>\n",
       "      <td>20.971363</td>\n",
       "      <td>12.507253</td>\n",
       "      <td>0.43</td>\n",
       "      <td>10.00</td>\n",
       "      <td>20.43</td>\n",
       "      <td>31.955</td>\n",
       "      <td>43.48</td>\n",
       "    </tr>\n",
       "    <tr>\n",
       "      <th>referral_aptitude_verbal_score</th>\n",
       "      <td>499.0</td>\n",
       "      <td>21.840491</td>\n",
       "      <td>12.213917</td>\n",
       "      <td>0.43</td>\n",
       "      <td>11.74</td>\n",
       "      <td>21.74</td>\n",
       "      <td>32.610</td>\n",
       "      <td>43.48</td>\n",
       "    </tr>\n",
       "    <tr>\n",
       "      <th>referral_aptitude_reasoning_score</th>\n",
       "      <td>499.0</td>\n",
       "      <td>23.706713</td>\n",
       "      <td>13.391275</td>\n",
       "      <td>0.23</td>\n",
       "      <td>13.04</td>\n",
       "      <td>23.48</td>\n",
       "      <td>34.350</td>\n",
       "      <td>89.00</td>\n",
       "    </tr>\n",
       "    <tr>\n",
       "      <th>referral_Management_Interview_score</th>\n",
       "      <td>499.0</td>\n",
       "      <td>5.733467</td>\n",
       "      <td>2.919795</td>\n",
       "      <td>1.00</td>\n",
       "      <td>3.00</td>\n",
       "      <td>6.00</td>\n",
       "      <td>8.000</td>\n",
       "      <td>10.00</td>\n",
       "    </tr>\n",
       "    <tr>\n",
       "      <th>referral_HR_Interview_score</th>\n",
       "      <td>499.0</td>\n",
       "      <td>5.651303</td>\n",
       "      <td>5.500516</td>\n",
       "      <td>1.00</td>\n",
       "      <td>3.00</td>\n",
       "      <td>5.00</td>\n",
       "      <td>8.000</td>\n",
       "      <td>111.00</td>\n",
       "    </tr>\n",
       "    <tr>\n",
       "      <th>Salary offered</th>\n",
       "      <td>499.0</td>\n",
       "      <td>102.006012</td>\n",
       "      <td>52.619704</td>\n",
       "      <td>40.00</td>\n",
       "      <td>60.00</td>\n",
       "      <td>101.00</td>\n",
       "      <td>141.000</td>\n",
       "      <td>868.00</td>\n",
       "    </tr>\n",
       "  </tbody>\n",
       "</table>\n",
       "</div>"
      ],
      "text/plain": [
       "                                     count        mean         std    min  \\\n",
       "referral_id                          499.0  250.000000  144.193157   1.00   \n",
       "referral_age                         499.0   27.020040    2.811979  20.00   \n",
       "referral_exp_in_years                499.0    4.053307    2.609814   1.00   \n",
       "referral_current_salary              499.0   86.472946   52.566584  25.00   \n",
       "referral_10_th_marks                 499.0   77.460922   10.548795  60.00   \n",
       "referral_12th_marks                  499.0   77.478958   10.932113  12.00   \n",
       "referral_graduation_marks            499.0   77.252698   10.217528  60.00   \n",
       "referral_post_grad_marks             499.0   78.268537   10.467968  60.00   \n",
       "referral_expected_sal                499.0  108.669339   58.605352  40.00   \n",
       "referral_aptitude_numerical_score    499.0   20.971363   12.507253   0.43   \n",
       "referral_aptitude_verbal_score       499.0   21.840491   12.213917   0.43   \n",
       "referral_aptitude_reasoning_score    499.0   23.706713   13.391275   0.23   \n",
       "referral_Management_Interview_score  499.0    5.733467    2.919795   1.00   \n",
       "referral_HR_Interview_score          499.0    5.651303    5.500516   1.00   \n",
       "Salary offered                       499.0  102.006012   52.619704  40.00   \n",
       "\n",
       "                                        25%     50%      75%     max  \n",
       "referral_id                          125.50  250.00  374.500  499.00  \n",
       "referral_age                          25.00   27.00   29.000   65.00  \n",
       "referral_exp_in_years                  2.00    4.00    6.000   42.00  \n",
       "referral_current_salary               45.00   85.00  126.000  853.00  \n",
       "referral_10_th_marks                  68.00   78.00   87.000  103.00  \n",
       "referral_12th_marks                   69.00   77.00   87.000   95.00  \n",
       "referral_graduation_marks             68.00   77.00   86.000  104.00  \n",
       "referral_post_grad_marks              69.00   78.00   88.500  101.00  \n",
       "referral_expected_sal                 62.00  103.00  143.000  870.00  \n",
       "referral_aptitude_numerical_score     10.00   20.43   31.955   43.48  \n",
       "referral_aptitude_verbal_score        11.74   21.74   32.610   43.48  \n",
       "referral_aptitude_reasoning_score     13.04   23.48   34.350   89.00  \n",
       "referral_Management_Interview_score    3.00    6.00    8.000   10.00  \n",
       "referral_HR_Interview_score            3.00    5.00    8.000  111.00  \n",
       "Salary offered                        60.00  101.00  141.000  868.00  "
      ]
     },
     "execution_count": 185,
     "metadata": {},
     "output_type": "execute_result"
    }
   ],
   "source": [
    "df_num.describe().T"
   ]
  },
  {
   "cell_type": "code",
   "execution_count": 186,
   "metadata": {},
   "outputs": [],
   "source": [
    "df_new = pd.concat([df_num, df_cat], axis=1, join='inner')"
   ]
  },
  {
   "cell_type": "code",
   "execution_count": 187,
   "metadata": {},
   "outputs": [
    {
     "data": {
      "text/html": [
       "<div>\n",
       "<style scoped>\n",
       "    .dataframe tbody tr th:only-of-type {\n",
       "        vertical-align: middle;\n",
       "    }\n",
       "\n",
       "    .dataframe tbody tr th {\n",
       "        vertical-align: top;\n",
       "    }\n",
       "\n",
       "    .dataframe thead th {\n",
       "        text-align: right;\n",
       "    }\n",
       "</style>\n",
       "<table border=\"1\" class=\"dataframe\">\n",
       "  <thead>\n",
       "    <tr style=\"text-align: right;\">\n",
       "      <th></th>\n",
       "      <th>referral_id</th>\n",
       "      <th>referral_age</th>\n",
       "      <th>referral_exp_in_years</th>\n",
       "      <th>referral_current_salary</th>\n",
       "      <th>referral_10_th_marks</th>\n",
       "      <th>referral_12th_marks</th>\n",
       "      <th>referral_graduation_marks</th>\n",
       "      <th>referral_post_grad_marks</th>\n",
       "      <th>referral_expected_sal</th>\n",
       "      <th>referral_aptitude_numerical_score</th>\n",
       "      <th>referral_aptitude_verbal_score</th>\n",
       "      <th>referral_aptitude_reasoning_score</th>\n",
       "      <th>referral_Management_Interview_score</th>\n",
       "      <th>referral_HR_Interview_score</th>\n",
       "      <th>Salary offered</th>\n",
       "      <th>referral_preferred_city</th>\n",
       "      <th>referral_gender</th>\n",
       "      <th>Emp_Salary_Grade</th>\n",
       "      <th>Joined</th>\n",
       "    </tr>\n",
       "  </thead>\n",
       "  <tbody>\n",
       "    <tr>\n",
       "      <th>0</th>\n",
       "      <td>1.0</td>\n",
       "      <td>28.0</td>\n",
       "      <td>5.0</td>\n",
       "      <td>106.0</td>\n",
       "      <td>89.0</td>\n",
       "      <td>72.0</td>\n",
       "      <td>87.0</td>\n",
       "      <td>83.0</td>\n",
       "      <td>123.0</td>\n",
       "      <td>10.00</td>\n",
       "      <td>33.04</td>\n",
       "      <td>23.48</td>\n",
       "      <td>10.0</td>\n",
       "      <td>3.0</td>\n",
       "      <td>141.0</td>\n",
       "      <td>Delhi</td>\n",
       "      <td>Male</td>\n",
       "      <td>EL0</td>\n",
       "      <td>Yes</td>\n",
       "    </tr>\n",
       "    <tr>\n",
       "      <th>1</th>\n",
       "      <td>2.0</td>\n",
       "      <td>26.0</td>\n",
       "      <td>3.0</td>\n",
       "      <td>65.0</td>\n",
       "      <td>63.0</td>\n",
       "      <td>77.0</td>\n",
       "      <td>94.0</td>\n",
       "      <td>85.0</td>\n",
       "      <td>83.0</td>\n",
       "      <td>6.09</td>\n",
       "      <td>27.39</td>\n",
       "      <td>20.87</td>\n",
       "      <td>10.0</td>\n",
       "      <td>10.0</td>\n",
       "      <td>80.0</td>\n",
       "      <td>Pune</td>\n",
       "      <td>Male</td>\n",
       "      <td>ML0</td>\n",
       "      <td>Yes</td>\n",
       "    </tr>\n",
       "    <tr>\n",
       "      <th>2</th>\n",
       "      <td>3.0</td>\n",
       "      <td>23.0</td>\n",
       "      <td>2.0</td>\n",
       "      <td>45.0</td>\n",
       "      <td>92.0</td>\n",
       "      <td>85.0</td>\n",
       "      <td>84.0</td>\n",
       "      <td>72.0</td>\n",
       "      <td>62.0</td>\n",
       "      <td>41.74</td>\n",
       "      <td>2.61</td>\n",
       "      <td>40.00</td>\n",
       "      <td>2.0</td>\n",
       "      <td>1.0</td>\n",
       "      <td>60.0</td>\n",
       "      <td>Mumbai</td>\n",
       "      <td>Male</td>\n",
       "      <td>EL0</td>\n",
       "      <td>No</td>\n",
       "    </tr>\n",
       "    <tr>\n",
       "      <th>3</th>\n",
       "      <td>4.0</td>\n",
       "      <td>29.0</td>\n",
       "      <td>6.0</td>\n",
       "      <td>126.0</td>\n",
       "      <td>60.0</td>\n",
       "      <td>95.0</td>\n",
       "      <td>95.0</td>\n",
       "      <td>67.0</td>\n",
       "      <td>146.0</td>\n",
       "      <td>31.30</td>\n",
       "      <td>9.13</td>\n",
       "      <td>23.48</td>\n",
       "      <td>9.0</td>\n",
       "      <td>3.0</td>\n",
       "      <td>142.0</td>\n",
       "      <td>Bangalore</td>\n",
       "      <td>Male</td>\n",
       "      <td>ML0</td>\n",
       "      <td>Yes</td>\n",
       "    </tr>\n",
       "    <tr>\n",
       "      <th>4</th>\n",
       "      <td>5.0</td>\n",
       "      <td>26.0</td>\n",
       "      <td>3.0</td>\n",
       "      <td>65.0</td>\n",
       "      <td>92.0</td>\n",
       "      <td>70.0</td>\n",
       "      <td>80.0</td>\n",
       "      <td>92.0</td>\n",
       "      <td>83.0</td>\n",
       "      <td>25.65</td>\n",
       "      <td>30.43</td>\n",
       "      <td>16.52</td>\n",
       "      <td>7.0</td>\n",
       "      <td>4.0</td>\n",
       "      <td>89.0</td>\n",
       "      <td>Mumbai</td>\n",
       "      <td>Female</td>\n",
       "      <td>EL0</td>\n",
       "      <td>Yes</td>\n",
       "    </tr>\n",
       "  </tbody>\n",
       "</table>\n",
       "</div>"
      ],
      "text/plain": [
       "   referral_id  referral_age  referral_exp_in_years  referral_current_salary  \\\n",
       "0          1.0          28.0                    5.0                    106.0   \n",
       "1          2.0          26.0                    3.0                     65.0   \n",
       "2          3.0          23.0                    2.0                     45.0   \n",
       "3          4.0          29.0                    6.0                    126.0   \n",
       "4          5.0          26.0                    3.0                     65.0   \n",
       "\n",
       "   referral_10_th_marks  referral_12th_marks  referral_graduation_marks  \\\n",
       "0                  89.0                 72.0                       87.0   \n",
       "1                  63.0                 77.0                       94.0   \n",
       "2                  92.0                 85.0                       84.0   \n",
       "3                  60.0                 95.0                       95.0   \n",
       "4                  92.0                 70.0                       80.0   \n",
       "\n",
       "   referral_post_grad_marks  referral_expected_sal  \\\n",
       "0                      83.0                  123.0   \n",
       "1                      85.0                   83.0   \n",
       "2                      72.0                   62.0   \n",
       "3                      67.0                  146.0   \n",
       "4                      92.0                   83.0   \n",
       "\n",
       "   referral_aptitude_numerical_score  referral_aptitude_verbal_score  \\\n",
       "0                              10.00                           33.04   \n",
       "1                               6.09                           27.39   \n",
       "2                              41.74                            2.61   \n",
       "3                              31.30                            9.13   \n",
       "4                              25.65                           30.43   \n",
       "\n",
       "   referral_aptitude_reasoning_score  referral_Management_Interview_score  \\\n",
       "0                              23.48                                 10.0   \n",
       "1                              20.87                                 10.0   \n",
       "2                              40.00                                  2.0   \n",
       "3                              23.48                                  9.0   \n",
       "4                              16.52                                  7.0   \n",
       "\n",
       "   referral_HR_Interview_score  Salary offered referral_preferred_city  \\\n",
       "0                          3.0           141.0                   Delhi   \n",
       "1                         10.0            80.0                    Pune   \n",
       "2                          1.0            60.0                  Mumbai   \n",
       "3                          3.0           142.0               Bangalore   \n",
       "4                          4.0            89.0                  Mumbai   \n",
       "\n",
       "  referral_gender Emp_Salary_Grade Joined  \n",
       "0            Male              EL0    Yes  \n",
       "1            Male              ML0    Yes  \n",
       "2            Male              EL0     No  \n",
       "3            Male              ML0    Yes  \n",
       "4          Female              EL0    Yes  "
      ]
     },
     "execution_count": 187,
     "metadata": {},
     "output_type": "execute_result"
    }
   ],
   "source": [
    "df_new.head()"
   ]
  },
  {
   "cell_type": "code",
   "execution_count": 188,
   "metadata": {},
   "outputs": [
    {
     "data": {
      "text/plain": [
       "(499, 19)"
      ]
     },
     "execution_count": 188,
     "metadata": {},
     "output_type": "execute_result"
    }
   ],
   "source": [
    "df_new.shape"
   ]
  },
  {
   "cell_type": "code",
   "execution_count": 189,
   "metadata": {},
   "outputs": [],
   "source": [
    "df = df_new"
   ]
  },
  {
   "cell_type": "code",
   "execution_count": null,
   "metadata": {
    "ExecuteTime": {
     "end_time": "2020-03-31T08:44:03.103840Z",
     "start_time": "2020-03-31T08:44:03.091834Z"
    }
   },
   "outputs": [],
   "source": [
    "# If we have a large dataset and there are very few records with null values we can choose to drop these records \n",
    "# using the below command\n",
    "# df=df.dropna()"
   ]
  },
  {
   "cell_type": "markdown",
   "metadata": {},
   "source": [
    "#### Checking for Duplicates"
   ]
  },
  {
   "cell_type": "code",
   "execution_count": 190,
   "metadata": {},
   "outputs": [
    {
     "name": "stdout",
     "output_type": "stream",
     "text": [
      "Number of duplicate rows = 0\n"
     ]
    }
   ],
   "source": [
    "# Are there any duplicates\n",
    "dups = df.duplicated()\n",
    "print('Number of duplicate rows = %d' % (dups.sum()))\n",
    "#df[dups]"
   ]
  },
  {
   "cell_type": "code",
   "execution_count": 191,
   "metadata": {},
   "outputs": [],
   "source": [
    "# If there are duplicates we can drop them using the below command\n",
    "df.drop_duplicates(inplace=True)"
   ]
  },
  {
   "cell_type": "code",
   "execution_count": 192,
   "metadata": {},
   "outputs": [
    {
     "data": {
      "text/plain": [
       "(499, 19)"
      ]
     },
     "execution_count": 192,
     "metadata": {},
     "output_type": "execute_result"
    }
   ],
   "source": [
    "df.shape"
   ]
  },
  {
   "cell_type": "markdown",
   "metadata": {},
   "source": [
    "### Data Visualization"
   ]
  },
  {
   "cell_type": "markdown",
   "metadata": {},
   "source": [
    "#### Univariate Analysis"
   ]
  },
  {
   "cell_type": "code",
   "execution_count": null,
   "metadata": {},
   "outputs": [],
   "source": [
    "df[['referral_exp_in_years','referral_current_salary']].describe()"
   ]
  },
  {
   "cell_type": "markdown",
   "metadata": {},
   "source": [
    "#### Insights:\n",
    "\n",
    "referral_exp_in_years ranges from a minimum of 1 year to maximum of 42 years\n",
    "\n",
    "75% of the referrals have less than or equal to 6 years experience\n",
    "\n",
    "Mean salary of referrals is 86.44 which is higher than the median value indicating that the ditribution is right tailed\n"
   ]
  },
  {
   "cell_type": "code",
   "execution_count": null,
   "metadata": {
    "ExecuteTime": {
     "end_time": "2020-03-30T21:02:17.461484Z",
     "start_time": "2020-03-30T21:02:16.471389Z"
    }
   },
   "outputs": [],
   "source": [
    "fig, axes = plt.subplots(nrows=2,ncols=2)\n",
    "fig.set_size_inches(10,8)\n",
    "sns.histplot(df['referral_exp_in_years'], kde=True, ax=axes[0][0])\n",
    "sns.boxplot(x='referral_exp_in_years', data=df, ax=axes[0][1])\n",
    "sns.histplot(df['referral_current_salary'] , kde=True, ax=axes[1][0])\n",
    "sns.boxplot(x='referral_current_salary', data=df , ax=axes[1][1])\n",
    "plt.show()"
   ]
  },
  {
   "cell_type": "markdown",
   "metadata": {},
   "source": [
    "#### Insights:\n",
    "\n",
    "Both referral_exp_in_years and referral_current_salary have ouliers in upper values.\n",
    "\n"
   ]
  },
  {
   "cell_type": "code",
   "execution_count": null,
   "metadata": {},
   "outputs": [],
   "source": [
    "## Categorical Variable"
   ]
  },
  {
   "cell_type": "code",
   "execution_count": null,
   "metadata": {},
   "outputs": [],
   "source": [
    "df['referral_preferred_city'].value_counts(normalize=True)"
   ]
  },
  {
   "cell_type": "code",
   "execution_count": null,
   "metadata": {},
   "outputs": [],
   "source": [
    " sns.countplot(x='referral_preferred_city', data=df, palette='pastel')"
   ]
  },
  {
   "cell_type": "markdown",
   "metadata": {},
   "source": [
    "#### Insights:\n",
    "\n",
    "Maximum referrals i.e. around 46% referrals are coming from Mumbai\n",
    "\n",
    "Only 6% referrals are from Pune"
   ]
  },
  {
   "cell_type": "markdown",
   "metadata": {},
   "source": [
    "####  Bivariate Analysis"
   ]
  },
  {
   "cell_type": "code",
   "execution_count": null,
   "metadata": {},
   "outputs": [],
   "source": [
    "## Numeric vs Numeric"
   ]
  },
  {
   "cell_type": "code",
   "execution_count": null,
   "metadata": {},
   "outputs": [],
   "source": [
    "plt.scatter(df['referral_exp_in_years'],df['referral_current_salary'])"
   ]
  },
  {
   "cell_type": "markdown",
   "metadata": {},
   "source": [
    "#### Insights:\n",
    "\n",
    "From the above plot we see that as the referral experience increases the salary is also increasing showing a positive relationship"
   ]
  },
  {
   "cell_type": "code",
   "execution_count": null,
   "metadata": {},
   "outputs": [],
   "source": [
    "## Categorical vs Categorical"
   ]
  },
  {
   "cell_type": "code",
   "execution_count": null,
   "metadata": {},
   "outputs": [],
   "source": [
    "sns.countplot(x='Emp_Salary_Grade', hue='Joined', data=df)"
   ]
  },
  {
   "cell_type": "code",
   "execution_count": null,
   "metadata": {},
   "outputs": [],
   "source": [
    "pd.crosstab(df['Emp_Salary_Grade'], df['Joined'], margins=True, normalize = True)"
   ]
  },
  {
   "cell_type": "markdown",
   "metadata": {},
   "source": [
    "### Insights:\n",
    "\n",
    "44.29% referrals are from the EL0 grade \n",
    "\n",
    "There is no major difference in the referrals joining or not joining based on gardes"
   ]
  },
  {
   "cell_type": "code",
   "execution_count": null,
   "metadata": {},
   "outputs": [],
   "source": [
    "## Categorical vs Numeric"
   ]
  },
  {
   "cell_type": "code",
   "execution_count": null,
   "metadata": {},
   "outputs": [],
   "source": [
    "fig_dims = (12, 5)\n",
    "sns.boxplot(x='Joined', y='referral_expected_sal', data=df)"
   ]
  },
  {
   "cell_type": "markdown",
   "metadata": {},
   "source": [
    "#### Insights:\n",
    "\n",
    "Median value of the expected salary for referrals who have joined is almost same as referrals who have not joined. However, there is a major difference in the range of expected salary for the 2 categories."
   ]
  },
  {
   "cell_type": "code",
   "execution_count": null,
   "metadata": {
    "scrolled": true
   },
   "outputs": [],
   "source": [
    "sns.pairplot(df)"
   ]
  },
  {
   "cell_type": "code",
   "execution_count": null,
   "metadata": {},
   "outputs": [],
   "source": [
    "plt.figure(figsize=(15,15))\n",
    "sns.heatmap(df.corr(),annot=True,fmt=\".2f\");"
   ]
  },
  {
   "cell_type": "markdown",
   "metadata": {},
   "source": [
    "### Insights\n",
    "\n",
    "There is a strong correlation observed between few fields. 'Salary offered' is highly correlated to 'referral_age' and 'referral_exp_in_years'\n",
    "\n",
    "Also, 'Salary offered' shows high correlation with 'referral_expected_sal' \n",
    "\n"
   ]
  },
  {
   "cell_type": "markdown",
   "metadata": {},
   "source": [
    "#### Multivariate Analysis"
   ]
  },
  {
   "cell_type": "code",
   "execution_count": null,
   "metadata": {},
   "outputs": [],
   "source": [
    "fig_dims = (12, 6)\n",
    "fig = plt.subplots(figsize=fig_dims)\n",
    "sns.boxplot(x='Joined', y='referral_age', hue='Emp_Salary_Grade',data=df)"
   ]
  },
  {
   "cell_type": "markdown",
   "metadata": {},
   "source": [
    "#### Insights:\n",
    "\n",
    "Median age of referrals who have joined is higher for EE0 grade compared to other grades\n"
   ]
  },
  {
   "cell_type": "code",
   "execution_count": null,
   "metadata": {},
   "outputs": [],
   "source": [
    "g = sns.FacetGrid(df, col=\"referral_preferred_city\", hue='Joined',col_wrap=3, height=3)\n",
    "g = g.map(plt.scatter, \"referral_graduation_marks\", 'referral_expected_sal')\n",
    "g.add_legend()"
   ]
  },
  {
   "cell_type": "markdown",
   "metadata": {},
   "source": [
    "#### Insights\n",
    "\n",
    "There are more referrals from Mumbai city\n",
    "\n",
    "Porportion of referrals who have joined and not joined seem to be the same across cities\n"
   ]
  },
  {
   "cell_type": "markdown",
   "metadata": {},
   "source": [
    "### Data Preparation"
   ]
  },
  {
   "cell_type": "markdown",
   "metadata": {},
   "source": [
    "#### Scaling "
   ]
  },
  {
   "cell_type": "code",
   "execution_count": null,
   "metadata": {},
   "outputs": [],
   "source": [
    "## Dropping the ID fearure before we scale numeric values as the same will not add any value in model building\n",
    "df.drop(labels='referral_id',axis=1,inplace=True)\n",
    "df.head()"
   ]
  },
  {
   "cell_type": "code",
   "execution_count": null,
   "metadata": {},
   "outputs": [],
   "source": [
    "cat=[]\n",
    "num=[]\n",
    "for i in df.columns:\n",
    "    if df[i].dtype==\"object\":\n",
    "        cat.append(i)\n",
    "    else:\n",
    "        num.append(i)\n",
    "print(cat) \n",
    "print(num)"
   ]
  },
  {
   "cell_type": "code",
   "execution_count": null,
   "metadata": {},
   "outputs": [],
   "source": [
    "# Method 1\n",
    "## Using Zscore for scaling/standardisation\n",
    "from scipy.stats import zscore\n",
    "data_scaled=df[num].apply(zscore)"
   ]
  },
  {
   "cell_type": "code",
   "execution_count": null,
   "metadata": {},
   "outputs": [],
   "source": [
    "data_scaled.head()"
   ]
  },
  {
   "cell_type": "code",
   "execution_count": null,
   "metadata": {},
   "outputs": [],
   "source": [
    "df.describe()"
   ]
  },
  {
   "cell_type": "code",
   "execution_count": null,
   "metadata": {},
   "outputs": [],
   "source": [
    "data_scaled.describe()"
   ]
  },
  {
   "cell_type": "code",
   "execution_count": null,
   "metadata": {},
   "outputs": [],
   "source": [
    "fig, axes = plt.subplots(nrows=1,ncols=2)\n",
    "fig.set_size_inches(10,5)\n",
    "sns.histplot(df['referral_current_salary'] , kde=True, ax=axes[0])\n",
    "sns.histplot(data_scaled['referral_current_salary'] , kde=True, ax=axes[1])\n",
    "plt.show()"
   ]
  },
  {
   "cell_type": "code",
   "execution_count": null,
   "metadata": {},
   "outputs": [],
   "source": [
    "# Method II\n",
    "## Using standardScaler for Standardisation\n",
    "from sklearn.preprocessing import StandardScaler\n",
    "scaler = StandardScaler().fit(df[num])\n",
    "data_standard=scaler.transform(df[num])\n",
    "data_standard=pd.DataFrame(data_standard, columns=df[num].columns)\n",
    "data_standard.describe()"
   ]
  },
  {
   "cell_type": "code",
   "execution_count": null,
   "metadata": {},
   "outputs": [],
   "source": [
    "# Method III Min-Max method\n",
    "from sklearn.preprocessing import MinMaxScaler\n",
    "# build the scaler model\n",
    "scaler = MinMaxScaler().fit(df[num])\n",
    "# transform the test test\n",
    "data_minmax = scaler.transform(df[num])\n",
    "data_minmax=pd.DataFrame(data_minmax, columns=df[num].columns)\n",
    "data_minmax.describe()"
   ]
  },
  {
   "cell_type": "markdown",
   "metadata": {},
   "source": [
    "##### Learning\n",
    "\n",
    "Applying zscore or using StandardScalar give us the same results\n",
    "\n",
    "It scales the data in such a way that the mean value of the features tends to 0 and the standard deviation tends to 1\n",
    "\n",
    "Min-Max method ensure that the data scaled to have values in the range 0 to 1"
   ]
  },
  {
   "cell_type": "markdown",
   "metadata": {},
   "source": [
    "#### Tranformation"
   ]
  },
  {
   "cell_type": "code",
   "execution_count": null,
   "metadata": {},
   "outputs": [],
   "source": [
    "df.referral_current_salary.describe()"
   ]
  },
  {
   "cell_type": "code",
   "execution_count": null,
   "metadata": {},
   "outputs": [],
   "source": [
    "fig_dims = (10, 5) \n",
    "fig, axs = plt.subplots(nrows=1, ncols=2, figsize=fig_dims) \n",
    "sns.histplot(df.referral_current_salary, kde=True, ax=axs[0]) \n",
    "sns.boxplot(x= 'referral_current_salary', data=df, ax=axs[1]) "
   ]
  },
  {
   "cell_type": "code",
   "execution_count": null,
   "metadata": {},
   "outputs": [],
   "source": [
    "print(\"skeness of referral_current_salary is\",df['referral_current_salary'].skew())\n",
    "print(\"kurtosis of referral_current_salary is \", df['referral_current_salary'].kurtosis())"
   ]
  },
  {
   "cell_type": "markdown",
   "metadata": {},
   "source": [
    "Skewness assesses the extent to which a variable’s distribution is symmetrical \n",
    "\n",
    "Kurtosis is a measure of whether the distribution is too peaked\n",
    "\n",
    "For an ideal normal distribution (theoretical) Skewness and Kurtosis have to be between -1 to +1 Or we can say that if we are able to reduce the skewness and kurtosis from a very high value to lower values we are able to get the data distirbuted more normally"
   ]
  },
  {
   "cell_type": "code",
   "execution_count": null,
   "metadata": {},
   "outputs": [],
   "source": [
    "# Using log transformation\n",
    "print(np.log(df['referral_current_salary']).skew())\n",
    "print(np.log(df['referral_current_salary']).kurtosis())\n",
    "\n",
    "fig_dims = (10, 5) \n",
    "fig, axs = plt.subplots(nrows=1, ncols=2, figsize=fig_dims) \n",
    "sns.histplot(np.log(df['referral_current_salary']), kde=True, ax = axs[0])\n",
    "sns.boxplot(x= np.log(df['referral_current_salary']), ax = axs[1])\n",
    "plt.show()"
   ]
  },
  {
   "cell_type": "code",
   "execution_count": null,
   "metadata": {},
   "outputs": [],
   "source": [
    "# Using sqrt for transformation\n",
    "print(np.sqrt(df['referral_current_salary']).skew())\n",
    "print(np.sqrt(df['referral_current_salary']).kurtosis())\n",
    "\n",
    "fig_dims = (10, 5) \n",
    "fig, axs = plt.subplots(nrows=1, ncols=2, figsize=fig_dims) \n",
    "sns.histplot(np.sqrt(df['referral_current_salary']), kde=True, ax = axs[0])\n",
    "sns.boxplot(x=np.sqrt(df['referral_current_salary']), ax = axs[1])\n",
    "plt.show()"
   ]
  },
  {
   "cell_type": "code",
   "execution_count": null,
   "metadata": {},
   "outputs": [],
   "source": [
    "# Using root of 10 for transformation\n",
    "print((df['referral_current_salary']**0.1).skew())\n",
    "print((df['referral_current_salary']**0.1).kurtosis())\n",
    "\n",
    "fig_dims = (10, 5) \n",
    "fig, axs = plt.subplots(nrows=1, ncols=2, figsize=fig_dims) \n",
    "sns.histplot((df['referral_current_salary']**0.1), kde=True, ax = axs[0])\n",
    "sns.boxplot(x=(df['referral_current_salary']**0.1), ax = axs[1])\n",
    "plt.show()"
   ]
  },
  {
   "cell_type": "markdown",
   "metadata": {},
   "source": [
    "##### Learning\n",
    "\n",
    "In situations where our data is highly skewed and the algorithm we plan to use for prediction has a prerequisite that the data has to be normally distributed, above transformations can be applied.\n",
    "\n",
    "In the above scenario, the transformation with root of 10 has given us best results, so we may choose to transform the data accordingly and check if it has helped in improving the model performance\n",
    "\n",
    "Note: If continuous variables are being predicted, we need to make a note that the values that will get predicted for the transformed data are also in that form and have to be reversed. i.e. Exponential is inverse of log, square is inverse of square root etc."
   ]
  },
  {
   "cell_type": "markdown",
   "metadata": {},
   "source": [
    "#### Outlier Treatment"
   ]
  },
  {
   "cell_type": "code",
   "execution_count": null,
   "metadata": {},
   "outputs": [],
   "source": [
    "### Method I - Z Score"
   ]
  },
  {
   "cell_type": "code",
   "execution_count": null,
   "metadata": {},
   "outputs": [],
   "source": [
    "# Take backup of 'referral_current_salary' field as 2 other fields to compare output from different methods\n",
    "df['referral_current_salary1'] = df['referral_current_salary']\n",
    "df['referral_current_salary2'] = df['referral_current_salary']"
   ]
  },
  {
   "cell_type": "code",
   "execution_count": null,
   "metadata": {},
   "outputs": [],
   "source": [
    "df.referral_current_salary.describe()"
   ]
  },
  {
   "cell_type": "code",
   "execution_count": null,
   "metadata": {},
   "outputs": [],
   "source": [
    "sns.boxplot(x=df.referral_current_salary)"
   ]
  },
  {
   "cell_type": "code",
   "execution_count": null,
   "metadata": {
    "scrolled": true
   },
   "outputs": [],
   "source": [
    "### Method I (Z Score)\n",
    "df['referral_current_salary_zscore'] = ( df.referral_current_salary - df.referral_current_salary.mean() ) / df.referral_current_salary.std()\n",
    "df['referral_current_salary_zscore'].describe()"
   ]
  },
  {
   "cell_type": "code",
   "execution_count": null,
   "metadata": {
    "scrolled": true
   },
   "outputs": [],
   "source": [
    "df[df['referral_current_salary_zscore'] > 3]"
   ]
  },
  {
   "cell_type": "code",
   "execution_count": null,
   "metadata": {},
   "outputs": [],
   "source": [
    "df[df['referral_current_salary_zscore'] < -3]"
   ]
  },
  {
   "cell_type": "code",
   "execution_count": null,
   "metadata": {},
   "outputs": [],
   "source": [
    "df[df['referral_current_salary_zscore'] > 3].referral_current_salary"
   ]
  },
  {
   "cell_type": "code",
   "execution_count": null,
   "metadata": {},
   "outputs": [],
   "source": [
    "# Let us calculate the value for referral_current_salary if ZScore has to be 3\n",
    "referral_current_salary_impute_value = (3*df.referral_current_salary.std()) + df.referral_current_salary.mean()\n",
    "round(referral_current_salary_impute_value,2)"
   ]
  },
  {
   "cell_type": "code",
   "execution_count": null,
   "metadata": {},
   "outputs": [],
   "source": [
    "list1 = df[df['referral_current_salary_zscore'] > 3].index"
   ]
  },
  {
   "cell_type": "code",
   "execution_count": null,
   "metadata": {},
   "outputs": [],
   "source": [
    "df['referral_current_salary'] = np.where(df.index.isin(list1), round(referral_current_salary_impute_value,2), \n",
    "                                         df['referral_current_salary'])"
   ]
  },
  {
   "cell_type": "code",
   "execution_count": null,
   "metadata": {
    "scrolled": true
   },
   "outputs": [],
   "source": [
    "sns.boxplot(x=df.referral_current_salary)"
   ]
  },
  {
   "cell_type": "code",
   "execution_count": null,
   "metadata": {},
   "outputs": [],
   "source": [
    "df.referral_current_salary.describe()"
   ]
  },
  {
   "cell_type": "code",
   "execution_count": null,
   "metadata": {},
   "outputs": [],
   "source": [
    "df.drop(['referral_current_salary_zscore'], axis=1, inplace=True)"
   ]
  },
  {
   "cell_type": "code",
   "execution_count": null,
   "metadata": {},
   "outputs": [],
   "source": [
    "### Boxplot method"
   ]
  },
  {
   "cell_type": "code",
   "execution_count": null,
   "metadata": {},
   "outputs": [],
   "source": [
    "df.referral_current_salary1.describe()"
   ]
  },
  {
   "cell_type": "code",
   "execution_count": null,
   "metadata": {},
   "outputs": [],
   "source": [
    "sns.boxplot(x=df.referral_current_salary1)"
   ]
  },
  {
   "cell_type": "code",
   "execution_count": null,
   "metadata": {},
   "outputs": [],
   "source": [
    "def remove_outlier(col):\n",
    "    sorted(col)\n",
    "    Q1,Q3=np.percentile(col,[25,75])\n",
    "    IQR=Q3-Q1\n",
    "    lower_range= Q1-(1.5 * IQR)\n",
    "    upper_range= Q3+(1.5 * IQR)\n",
    "    return lower_range, upper_range"
   ]
  },
  {
   "cell_type": "code",
   "execution_count": null,
   "metadata": {},
   "outputs": [],
   "source": [
    "## Check the lower range and upper range for the variable with zscore\n",
    "lr,ur=remove_outlier(df['referral_current_salary1'])\n",
    "print(\"lower range\",lr, \"and upper range\", ur)"
   ]
  },
  {
   "cell_type": "code",
   "execution_count": null,
   "metadata": {},
   "outputs": [],
   "source": [
    "df['referral_current_salary1']=np.where(df['referral_current_salary1']>ur,ur,df['referral_current_salary1'])\n",
    "df['referral_current_salary1']=np.where(df['referral_current_salary1']<lr,lr,df['referral_current_salary1'])"
   ]
  },
  {
   "cell_type": "code",
   "execution_count": null,
   "metadata": {},
   "outputs": [],
   "source": [
    "sns.boxplot(x=df.referral_current_salary1)"
   ]
  },
  {
   "cell_type": "code",
   "execution_count": null,
   "metadata": {},
   "outputs": [],
   "source": [
    "df.referral_current_salary1.describe()"
   ]
  },
  {
   "cell_type": "code",
   "execution_count": null,
   "metadata": {},
   "outputs": [],
   "source": [
    "df.referral_current_salary2.describe()"
   ]
  },
  {
   "cell_type": "code",
   "execution_count": null,
   "metadata": {},
   "outputs": [],
   "source": [
    "### Based on business knowledge, we can choose to impute a different value and not higher or lower whisker value \n",
    "## We can choose quantile as shown below\n",
    "q99percent = df.referral_current_salary2.quantile(q=0.99)\n",
    "q99percent"
   ]
  },
  {
   "cell_type": "markdown",
   "metadata": {},
   "source": [
    "#### Encoding"
   ]
  },
  {
   "cell_type": "markdown",
   "metadata": {},
   "source": [
    "##### Label Encoding"
   ]
  },
  {
   "cell_type": "code",
   "execution_count": null,
   "metadata": {},
   "outputs": [],
   "source": [
    "df[cat]"
   ]
  },
  {
   "cell_type": "code",
   "execution_count": null,
   "metadata": {},
   "outputs": [],
   "source": [
    "# convert a column to a category, then use those category values for your label encoding:\n",
    "df[\"referral_gender\"] =df[\"referral_gender\"].astype('category')\n",
    "df.dtypes"
   ]
  },
  {
   "cell_type": "code",
   "execution_count": null,
   "metadata": {},
   "outputs": [],
   "source": [
    "df[\"referral_gender_cat\"] = df[\"referral_gender\"].cat.codes\n",
    "df[\"referral_gender_cat\"].head()"
   ]
  },
  {
   "cell_type": "code",
   "execution_count": null,
   "metadata": {
    "scrolled": true
   },
   "outputs": [],
   "source": [
    "df[\"referral_gender\"].value_counts()"
   ]
  },
  {
   "cell_type": "code",
   "execution_count": null,
   "metadata": {},
   "outputs": [],
   "source": [
    "df[\"referral_gender_cat\"].value_counts()"
   ]
  },
  {
   "cell_type": "code",
   "execution_count": null,
   "metadata": {},
   "outputs": [],
   "source": [
    "## One Hot Encoding"
   ]
  },
  {
   "cell_type": "code",
   "execution_count": null,
   "metadata": {},
   "outputs": [],
   "source": [
    "cat.remove('Joined')"
   ]
  },
  {
   "cell_type": "code",
   "execution_count": null,
   "metadata": {},
   "outputs": [],
   "source": [
    "df_new =pd.get_dummies(df, columns=cat,drop_first=True)"
   ]
  },
  {
   "cell_type": "code",
   "execution_count": null,
   "metadata": {},
   "outputs": [],
   "source": [
    "df_new.head()"
   ]
  }
 ],
 "metadata": {
  "colab": {
   "collapsed_sections": [],
   "name": "Multiple_Linear_Regression_Food_Solution_final.ipynb",
   "provenance": []
  },
  "kernelspec": {
   "display_name": "Python 3",
   "language": "python",
   "name": "python3"
  },
  "language_info": {
   "codemirror_mode": {
    "name": "ipython",
    "version": 3
   },
   "file_extension": ".py",
   "mimetype": "text/x-python",
   "name": "python",
   "nbconvert_exporter": "python",
   "pygments_lexer": "ipython3",
   "version": "3.8.5"
  },
  "toc": {
   "base_numbering": 1,
   "nav_menu": {},
   "number_sections": true,
   "sideBar": true,
   "skip_h1_title": false,
   "title_cell": "Table of Contents",
   "title_sidebar": "Contents",
   "toc_cell": false,
   "toc_position": {},
   "toc_section_display": true,
   "toc_window_display": false
  },
  "varInspector": {
   "cols": {
    "lenName": 16,
    "lenType": 16,
    "lenVar": 40
   },
   "kernels_config": {
    "python": {
     "delete_cmd_postfix": "",
     "delete_cmd_prefix": "del ",
     "library": "var_list.py",
     "varRefreshCmd": "print(var_dic_list())"
    },
    "r": {
     "delete_cmd_postfix": ") ",
     "delete_cmd_prefix": "rm(",
     "library": "var_list.r",
     "varRefreshCmd": "cat(var_dic_list()) "
    }
   },
   "types_to_exclude": [
    "module",
    "function",
    "builtin_function_or_method",
    "instance",
    "_Feature"
   ],
   "window_display": false
  }
 },
 "nbformat": 4,
 "nbformat_minor": 4
}
